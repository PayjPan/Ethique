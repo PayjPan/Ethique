{
 "cells": [
  {
   "cell_type": "raw",
   "metadata": {
    "lines_to_next_cell": 0
   },
   "source": [
    "---\n",
    "title: \"Fairness\"\n",
    "site: distill::distill_website\n",
    "---"
   ]
  },
  {
   "cell_type": "code",
   "execution_count": 1,
   "metadata": {
    "lines_to_next_cell": 0
   },
   "outputs": [
    {
     "name": "stderr",
     "output_type": "stream",
     "text": [
      "UsageError: Cell magic `%%R` not found.\n"
     ]
    }
   ],
   "source": [
    "%%R\n",
    "library(reticulate)\n",
    "use_condaenv('ethique_env')"
   ]
  },
  {
   "cell_type": "markdown",
   "metadata": {},
   "source": [
    "# Fairness \n",
    "\n",
    "Pour mesurer la partialité d'un algorithme plusieurs métriques ont été proposées. La parité démographique, la parité proportionnelle et l'égalité des chances sont les plus communes pour évaluer la partialité sur les variables sensibles comme le sex ou la nationalité lorsque le modèle est un classifieur binaire. Il existe un très grands nombre d'autre métiques qui dépendent de la matrice de confusion. \n",
    "\n",
    "Pour illustrer cela nous allons utilisé dans un premier temps les calculers avec les formules explicites puis nous utiliserons la librairie : *AI Fairness 360*.\n",
    "\n",
    "## Prépration des données et création du modèle cible"
   ]
  },
  {
   "cell_type": "code",
   "execution_count": 1,
   "metadata": {},
   "outputs": [],
   "source": [
    "import matplotlib.pyplot as plt\n",
    "import pandas as pd\n",
    "import numpy as np\n",
    "\n",
    "from tqdm.notebook import tqdm\n",
    "from copy import deepcopy\n",
    "\n",
    "from sklearn import model_selection\n",
    "from sklearn.preprocessing import StandardScaler\n",
    "from sklearn.preprocessing import OneHotEncoder, FunctionTransformer\n",
    "from sklearn.linear_model import LogisticRegression, LinearRegression\n",
    "from sklearn.metrics import accuracy_score, confusion_matrix, plot_confusion_matrix\n",
    "from sklearn.compose import ColumnTransformer\n",
    "from sklearn.pipeline import Pipeline"
   ]
  },
  {
   "cell_type": "code",
   "execution_count": 2,
   "metadata": {},
   "outputs": [],
   "source": [
    "seed = 2021"
   ]
  },
  {
   "cell_type": "code",
   "execution_count": 3,
   "metadata": {},
   "outputs": [],
   "source": [
    "credit = pd.read_csv(\"data/german_credit_prepared.csv\", sep=\",\", engine=\"python\")\n",
    "\n",
    "y = credit.default \n",
    "X = credit.drop(columns=[\"default\"])\n",
    "\n",
    "# Définie quelles colones sont categorielles et quelles sont continue\n",
    "variables_cat = [col for col in X.columns if credit[col].dtype==object]\n",
    "variables_ord = [col for col in X.columns if credit[col].dtype==int]\n",
    "\n",
    "preprocess = ColumnTransformer(\n",
    "    transformers=[\n",
    "        ('cat', OneHotEncoder(drop='first'), variables_cat),\n",
    "        ('ord', StandardScaler(), variables_ord)\n",
    "    ])\n",
    "\n",
    "model = Pipeline(\n",
    "        [\n",
    "            ('preprocession', preprocess),\n",
    "            ('logreg', LogisticRegression())\n",
    "        ]\n",
    ")"
   ]
  },
  {
   "cell_type": "code",
   "execution_count": 4,
   "metadata": {},
   "outputs": [],
   "source": [
    "X_train, X_test, y_train, y_test = model_selection.train_test_split(X, y, test_size=0.20, random_state=seed)\n",
    "\n",
    "logreg = model.fit(X_train, y_train)"
   ]
  },
  {
   "cell_type": "markdown",
   "metadata": {},
   "source": [
    "## Utilisation de la matrice de confusion\n",
    "\n",
    "La majorité des mesures de partialité sont basées sur la matrice de confusion. Elle comporte quatre classes :\n",
    " - Vrai positif (VP) : la vraie classe est 1 et la classe prédite est 1\n",
    " - Faux positif (FP) : la vraie classe est 0 et la classe prédite est 1 \n",
    " - Vrai négatif (VN) : la vraie classe est 0 et la classe prédite est 0\n",
    " - Faux négatif (FN) : la vraie classe est 1 et la classe prédite est 0\n",
    "\n",
    "Les métriques de partialité sont calculé à partir de ces 4 valeurs pour des groupes de personnes partagants des caractéristiques communes (sex, ethnicité) "
   ]
  },
  {
   "cell_type": "code",
   "execution_count": 5,
   "metadata": {},
   "outputs": [
    {
     "data": {
      "image/png": "[encoded data removed]",
      "text/plain": [
       "<Figure size 432x288 with 2 Axes>"
      ]
     },
     "metadata": {
      "needs_background": "light"
     },
     "output_type": "display_data"
    }
   ],
   "source": [
    "title = 'Matrice de confusion de la régression logistique'\n",
    "disp = plot_confusion_matrix(logreg,\n",
    "                             X_test,\n",
    "                             y_test,\n",
    "                             cmap=plt.cm.Blues)\n",
    "disp.ax_.set_title(title)\n",
    "plt.show()"
   ]
  },
  {
   "cell_type": "markdown",
   "metadata": {},
   "source": [
    "## Métriques de parité"
   ]
  },
  {
   "cell_type": "code",
   "execution_count": 6,
   "metadata": {},
   "outputs": [],
   "source": [
    "from aif360.datasets import BinaryLabelDataset\n",
    "from aif360.metrics import ClassificationMetric"
   ]
  },
  {
   "cell_type": "code",
   "execution_count": 7,
   "metadata": {},
   "outputs": [],
   "source": [
    "y_test_pred = pd.Series(model.predict(X_test), index=X_test.index, name='defaut')\n",
    "y_test = pd.Series(y_test, index=X_test.index, name='defaut')\n",
    "sex_test = X_test.sex.map({'male': 0, 'female': 1})\n",
    "\n",
    "bld_test_pred = BinaryLabelDataset(df=pd.concat([y_test_pred, sex_test], axis=1),\n",
    "                                                label_names=['defaut'], \n",
    "                                                protected_attribute_names=['sex'],\n",
    "                                                favorable_label=0, unfavorable_label=1)\n",
    "bld_test = BinaryLabelDataset(df=pd.concat([y_test, sex_test], axis=1),\n",
    "                                           label_names=['defaut'], \n",
    "                                           protected_attribute_names=['sex'],\n",
    "                                           favorable_label=0, unfavorable_label=1)"
   ]
  },
  {
   "cell_type": "code",
   "execution_count": 8,
   "metadata": {},
   "outputs": [],
   "source": [
    "fairness_metrics = ClassificationMetric(bld_test, bld_test_pred, \n",
    "                         unprivileged_groups=[{'sex': 1}], privileged_groups=[{'sex': 0}])"
   ]
  },
  {
   "cell_type": "markdown",
   "metadata": {},
   "source": [
    "Average of difference in FPR and TPR for unprivileged and privileged\n",
    "groups:\n",
    "\n",
    "   $$\\tfrac{1}{2}\\left[(FPR_{D = \\text{unprivileged}} - FPR_{D = \\text{privileged}})\n",
    "   + (TPR_{D = \\text{unprivileged}} - TPR_{D = \\text{privileged}}))\\right]$$\n",
    "\n",
    "A value of 0 indicates equality of odds."
   ]
  },
  {
   "cell_type": "code",
   "execution_count": 9,
   "metadata": {},
   "outputs": [
    {
     "data": {
      "text/plain": [
       "-0.14944444444444446"
      ]
     },
     "execution_count": 9,
     "metadata": {},
     "output_type": "execute_result"
    }
   ],
   "source": [
    "fairness_metrics.average_odds_difference()"
   ]
  },
  {
   "cell_type": "markdown",
   "metadata": {},
   "source": [
    "$$Pr(\\hat{Y} = 1 | D = \\text{unprivileged})\n",
    "   - Pr(\\hat{Y} = 1 | D = \\text{privileged})$$"
   ]
  },
  {
   "cell_type": "code",
   "execution_count": 10,
   "metadata": {},
   "outputs": [
    {
     "data": {
      "text/plain": [
       "-0.19117647058823528"
      ]
     },
     "execution_count": 10,
     "metadata": {},
     "output_type": "execute_result"
    }
   ],
   "source": [
    "fairness_metrics.statistical_parity_difference()"
   ]
  },
  {
   "cell_type": "markdown",
   "metadata": {},
   "source": [
    "$$TPR_{D = \\text{unprivileged}} - TPR_{D = \\text{privileged}}$$"
   ]
  },
  {
   "cell_type": "code",
   "execution_count": 11,
   "metadata": {},
   "outputs": [
    {
     "data": {
      "text/plain": [
       "-0.16000000000000003"
      ]
     },
     "execution_count": 11,
     "metadata": {},
     "output_type": "execute_result"
    }
   ],
   "source": [
    "fairness_metrics.true_positive_rate_difference()"
   ]
  },
  {
   "cell_type": "markdown",
   "metadata": {},
   "source": [
    "$$\\frac{Pr(\\hat{Y} = 1 | D = \\text{unprivileged})}\n",
    "   {Pr(\\hat{Y} = 1 | D = \\text{privileged})}$$"
   ]
  },
  {
   "cell_type": "code",
   "execution_count": 12,
   "metadata": {},
   "outputs": [
    {
     "data": {
      "text/plain": [
       "0.7657657657657658"
      ]
     },
     "execution_count": 12,
     "metadata": {},
     "output_type": "execute_result"
    }
   ],
   "source": [
    "fairness_metrics.disparate_impact()"
   ]
  },
  {
   "cell_type": "code",
   "execution_count": 13,
   "metadata": {},
   "outputs": [
    {
     "data": {
      "text/plain": [
       "0.755"
      ]
     },
     "execution_count": 13,
     "metadata": {},
     "output_type": "execute_result"
    }
   ],
   "source": [
    "fairness_metrics.accuracy()"
   ]
  },
  {
   "cell_type": "markdown",
   "metadata": {},
   "source": [
    "## Post Processing"
   ]
  },
  {
   "cell_type": "markdown",
   "metadata": {},
   "source": [
    "http://www.datasciencepublicpolicy.org/wp-content/uploads/2021/04/Fairness-Full-Tree.png"
   ]
  },
  {
   "cell_type": "code",
   "execution_count": 14,
   "metadata": {},
   "outputs": [],
   "source": [
    "from aif360.algorithms.postprocessing import CalibratedEqOddsPostprocessing"
   ]
  },
  {
   "cell_type": "code",
   "execution_count": 15,
   "metadata": {},
   "outputs": [],
   "source": [
    "cpp = CalibratedEqOddsPostprocessing(unprivileged_groups=[{'sex': 1}], \n",
    "                                   privileged_groups=[{'sex': 0}],\n",
    "                                   cost_constraint='fpr')"
   ]
  },
  {
   "cell_type": "code",
   "execution_count": 16,
   "metadata": {},
   "outputs": [],
   "source": [
    "cpp = cpp.fit(bld_test, bld_test_pred)"
   ]
  },
  {
   "cell_type": "code",
   "execution_count": 17,
   "metadata": {},
   "outputs": [],
   "source": [
    "bld_test_pred = cpp.predict(bld_test_pred)"
   ]
  },
  {
   "cell_type": "code",
   "execution_count": 18,
   "metadata": {},
   "outputs": [],
   "source": [
    "fairness_metrics = ClassificationMetric(bld_test, bld_test_pred, \n",
    "                         unprivileged_groups=[{'sex': 1}], privileged_groups=[{'sex': 0}])"
   ]
  },
  {
   "cell_type": "code",
   "execution_count": 19,
   "metadata": {},
   "outputs": [
    {
     "data": {
      "text/plain": [
       "0.1338888888888889"
      ]
     },
     "execution_count": 19,
     "metadata": {},
     "output_type": "execute_result"
    }
   ],
   "source": [
    "fairness_metrics.average_odds_difference()"
   ]
  },
  {
   "cell_type": "code",
   "execution_count": 20,
   "metadata": {},
   "outputs": [
    {
     "data": {
      "text/plain": [
       "0.05882352941176472"
      ]
     },
     "execution_count": 20,
     "metadata": {},
     "output_type": "execute_result"
    }
   ],
   "source": [
    "fairness_metrics.statistical_parity_difference()"
   ]
  },
  {
   "cell_type": "code",
   "execution_count": 21,
   "metadata": {},
   "outputs": [
    {
     "data": {
      "text/plain": [
       "-0.010000000000000009"
      ]
     },
     "execution_count": 21,
     "metadata": {},
     "output_type": "execute_result"
    }
   ],
   "source": [
    "fairness_metrics.true_positive_rate_difference()"
   ]
  },
  {
   "cell_type": "code",
   "execution_count": 22,
   "metadata": {},
   "outputs": [
    {
     "data": {
      "text/plain": [
       "1.072072072072072"
      ]
     },
     "execution_count": 22,
     "metadata": {},
     "output_type": "execute_result"
    }
   ],
   "source": [
    "fairness_metrics.disparate_impact()"
   ]
  },
  {
   "cell_type": "code",
   "execution_count": 23,
   "metadata": {},
   "outputs": [
    {
     "data": {
      "text/plain": [
       "0.735"
      ]
     },
     "execution_count": 23,
     "metadata": {},
     "output_type": "execute_result"
    }
   ],
   "source": [
    "fairness_metrics.accuracy()"
   ]
  },
  {
   "cell_type": "markdown",
   "metadata": {},
   "source": [
    "## Pre Processing"
   ]
  },
  {
   "cell_type": "code",
   "execution_count": 24,
   "metadata": {},
   "outputs": [],
   "source": [
    "from aif360.algorithms.preprocessing import Reweighing"
   ]
  },
  {
   "cell_type": "code",
   "execution_count": 25,
   "metadata": {},
   "outputs": [],
   "source": [
    "rw = Reweighing(unprivileged_groups=[{'sex': 1}], \n",
    "                privileged_groups=[{'sex': 0}])"
   ]
  },
  {
   "cell_type": "code",
   "execution_count": 26,
   "metadata": {},
   "outputs": [],
   "source": [
    "if 'sex' in variables_cat: variables_cat.remove('sex')\n",
    "\n",
    "preprocess = ColumnTransformer(\n",
    "    transformers=[\n",
    "        ('cat', OneHotEncoder(drop='first'), variables_cat),\n",
    "        ('ord', StandardScaler(), variables_ord)\n",
    "    ])\n",
    "\n",
    "X_train_proc = preprocess.fit_transform(X_train.drop(columns='sex'))\n",
    "X_train_proc = pd.concat([pd.DataFrame(X_train_proc, index=X_train.index), \n",
    "                          X_train.sex.map({'male':0, 'female':1})], axis=1)"
   ]
  },
  {
   "cell_type": "code",
   "execution_count": 30,
   "metadata": {},
   "outputs": [],
   "source": [
    "bld_train = BinaryLabelDataset(df=pd.concat([X_train_proc, y_train], axis=1),\n",
    "                                                label_names=['default'], \n",
    "                                                protected_attribute_names=['sex'],\n",
    "                                                favorable_label=0, unfavorable_label=1)"
   ]
  },
  {
   "cell_type": "code",
   "execution_count": 31,
   "metadata": {},
   "outputs": [],
   "source": [
    "bld_train = rw.fit_transform(bld_train)"
   ]
  },
  {
   "cell_type": "code",
   "execution_count": 32,
   "metadata": {},
   "outputs": [],
   "source": [
    "w_train = bld_train.instance_weights.ravel()"
   ]
  },
  {
   "cell_type": "code",
   "execution_count": 33,
   "metadata": {},
   "outputs": [
    {
     "data": {
      "text/plain": [
       "Pipeline(steps=[('preprocession',\n",
       "                 ColumnTransformer(transformers=[('cat',\n",
       "                                                  OneHotEncoder(drop='first'),\n",
       "                                                  ['account_check_status',\n",
       "                                                   'credit_history', 'purpose',\n",
       "                                                   'savings',\n",
       "                                                   'present_emp_since',\n",
       "                                                   'personal _status',\n",
       "                                                   'other_debtors', 'property',\n",
       "                                                   'other_installment_plans',\n",
       "                                                   'housing', 'job',\n",
       "                                                   'telephone',\n",
       "                                                   'foreign_worker']),\n",
       "                                                 ('ord', StandardScaler(),\n",
       "                                                  ['duration_in_month',\n",
       "                                                   'credit_amount',\n",
       "                                                   'installment_as_income_perc',\n",
       "                                                   'present_res_since', 'age',\n",
       "                                                   'credits_this_bank',\n",
       "                                                   'people_under_maintenance'])])),\n",
       "                ('logreg', LogisticRegression())])"
      ]
     },
     "execution_count": 33,
     "metadata": {},
     "output_type": "execute_result"
    }
   ],
   "source": [
    "model.fit(X_train, y_train, logreg__sample_weight = w_train)"
   ]
  },
  {
   "cell_type": "code",
   "execution_count": 34,
   "metadata": {},
   "outputs": [],
   "source": [
    "y_test_pred = pd.Series(model.predict(X_test), index=X_test.index, name='defaut')\n",
    "y_test = pd.Series(y_test, index=X_test.index, name='defaut')\n",
    "sex_test = X_test.sex.map({'male': 0, 'female':1})"
   ]
  },
  {
   "cell_type": "code",
   "execution_count": 36,
   "metadata": {},
   "outputs": [],
   "source": [
    "\n",
    "bld_test_pred = BinaryLabelDataset(df=pd.concat([y_test_pred, sex_test], axis=1),\n",
    "                                                label_names=['defaut'], \n",
    "                                                protected_attribute_names=['sex'],\n",
    "                                                favorable_label=0, unfavorable_label=1)\n",
    "bld_test = BinaryLabelDataset(df=pd.concat([y_test, sex_test], axis=1),\n",
    "                                           label_names=['defaut'], \n",
    "                                           protected_attribute_names=['sex'],\n",
    "                                           favorable_label=0, unfavorable_label=1)"
   ]
  },
  {
   "cell_type": "code",
   "execution_count": 37,
   "metadata": {},
   "outputs": [],
   "source": [
    "fairness_metrics = ClassificationMetric(bld_test, bld_test_pred, \n",
    "                         unprivileged_groups=[{'sex': 1}], privileged_groups=[{'sex': 0}])"
   ]
  },
  {
   "cell_type": "code",
   "execution_count": 38,
   "metadata": {},
   "outputs": [
    {
     "data": {
      "text/plain": [
       "-0.09222222222222223"
      ]
     },
     "execution_count": 38,
     "metadata": {},
     "output_type": "execute_result"
    }
   ],
   "source": [
    "fairness_metrics.average_odds_difference()"
   ]
  },
  {
   "cell_type": "code",
   "execution_count": 39,
   "metadata": {},
   "outputs": [
    {
     "data": {
      "text/plain": [
       "-0.13786764705882348"
      ]
     },
     "execution_count": 39,
     "metadata": {},
     "output_type": "execute_result"
    }
   ],
   "source": [
    "fairness_metrics.statistical_parity_difference()"
   ]
  },
  {
   "cell_type": "code",
   "execution_count": 40,
   "metadata": {},
   "outputs": [
    {
     "data": {
      "text/plain": [
       "-0.11499999999999999"
      ]
     },
     "execution_count": 40,
     "metadata": {},
     "output_type": "execute_result"
    }
   ],
   "source": [
    "fairness_metrics.true_positive_rate_difference()"
   ]
  },
  {
   "cell_type": "code",
   "execution_count": 41,
   "metadata": {},
   "outputs": [
    {
     "data": {
      "text/plain": [
       "0.826388888888889"
      ]
     },
     "execution_count": 41,
     "metadata": {},
     "output_type": "execute_result"
    }
   ],
   "source": [
    "fairness_metrics.disparate_impact()"
   ]
  },
  {
   "cell_type": "code",
   "execution_count": 42,
   "metadata": {},
   "outputs": [
    {
     "data": {
      "text/plain": [
       "0.75"
      ]
     },
     "execution_count": 42,
     "metadata": {},
     "output_type": "execute_result"
    }
   ],
   "source": [
    "fairness_metrics.accuracy()"
   ]
  },
  {
   "cell_type": "code",
   "execution_count": null,
   "metadata": {},
   "outputs": [],
   "source": []
  }
 ],
 "metadata": {
  "jupytext": {
   "formats": "ipynb,Rmd"
  },
  "kernelspec": {
   "display_name": "Python 3",
   "language": "python",
   "name": "python3"
  },
  "language_info": {
   "codemirror_mode": {
    "name": "ipython",
    "version": 3
   },
   "file_extension": ".py",
   "mimetype": "text/x-python",
   "name": "python",
   "nbconvert_exporter": "python",
   "pygments_lexer": "ipython3",
   "version": "3.9.6"
  }
 },
 "nbformat": 4,
 "nbformat_minor": 4
}
