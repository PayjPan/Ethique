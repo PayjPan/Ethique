{
 "cells": [
  {
   "cell_type": "raw",
   "metadata": {
    "lines_to_next_cell": 0
   },
   "source": [
    "---\n",
    "title: \"Fairness\"\n",
    "site: distill::distill_website\n",
    "---"
   ]
  },
  {
   "cell_type": "code",
   "execution_count": 2,
   "metadata": {
    "lines_to_next_cell": 0,
    "tags": []
   },
   "outputs": [
    {
     "name": "stderr",
     "output_type": "stream",
     "text": [
      "UsageError: Cell magic `%%R` not found.\n"
     ]
    }
   ],
   "source": [
    "%%R\n",
    "library(reticulate)\n",
    "use_condaenv('ethique_env')"
   ]
  },
  {
   "cell_type": "code",
   "execution_count": 2,
   "metadata": {},
   "outputs": [],
   "source": [
    "%%capture\n",
    "%run ./german.ipynb"
   ]
  },
  {
   "cell_type": "markdown",
   "metadata": {},
   "source": [
    "# Fairness "
   ]
  },
  {
   "cell_type": "markdown",
   "metadata": {},
   "source": [
    "# Les femmes sont discriminées\n",
    "\n",
    "## Définition de la *fairness*\n",
    "\n",
    "([source](https://en.wikipedia.org/wiki/Fairness_(machine_learning)))\n",
    "\n",
    "On appel biais algorithmique une erreur systématique et reproductible d'un système informatique qui entraîne les sorties de ce système à favoriser un groupe d'individus plutôt qu'un autre. Cette notion est déjà abordé par Joseph Weizenbaum en 1967 qui décrivait les programmes informatique de l'époque mimiquant le raisonnement humain pour résoudre des problèmes. Il dit dans *Computer Power and Human Reason* que les règles que suivent les programmes internalisent la vision du monde de leur créateur ce qui inclue leur biais et leur attentes. Cela ne concerne également les algorithmes qui apprennent d'eux-même car toutes données fournies à l'algorithme reflètent la manière dont l'homme prends des décisions.\n",
    "\n",
    "Le principe de *fairness* en apprentissage statistique corresponds aux différentes manières de corriger ou du moins de mitiger ce problème de biais algorithmique. Il est difficile voir impossible de donner une définition universelle de la *fairness* mais de manière générale on considère qu'un résultat est équitable s'il est indépendant d'un certain jeu de variables appelées *variables sensibles*. Pour une personnes les variables sensibles correspondent classiquement aux attributs comme le sexe, l'ethnicité, l'orientation sexuelle, ou tout autre caractéristiques sur lesquelles il est interdit de discriminé. \n",
    "\n",
    "Bien que le problème de biais algorithmique soit décrit depuis plus les années 70 les recherches en matière de *fairness* sont très récentes avec les publications les plus importantes datant seulement de 2018. (citer des papier ?) \n",
    "\n",
    "## Définition mathématique \n",
    "\n",
    "Bien que la définition de *fairness* paraisse intuitive, il est nécessaire de faire des hypothèse pour mettre en place une définition théorique. Il existe donc différentes définition de la *fairness* selon les hypothèses retenues. Néanmoins de manière générale l'objectif de ces définition est que la déviation (ou le biais statistique) d'une ou plusieurs *métriques de parité* doivent être minimisé pour tout les individus ou tout les groupes d'individus. \n",
    "\n",
    "Il existe un très grand nombre de ces métriques de parités ([liste](https://developers.google.com/machine-learning/glossary/fairness)). Il existe certain outils permettant d'orienté le choix vers une métrique plutôt qu'une autre en fonction du rôle qu'aura le modèle statistique. Par exemple [*Aquiteas*](https://github.com/dssg/aequitas), une trousse à outils de *fairness* développée par le centre *data science and public policy* de l'université de Chicago, propose l'arbre de décision suivant : \n",
    "\n",
    "![](http://www.datasciencepublicpolicy.org/wp-content/uploads/2021/04/Fairness-Full-Tree.png)\n",
    "\n",
    "\n",
    "Nous allons nous attarder sur trois métriques en utilisant les notations suivantes :\n",
    " - $Y$ : la caractéristique binaire de sortie\n",
    " - $X$ : le vecteur de caractéristique d'entrées sans la caractéristique sensible\n",
    " - $S$ : la caractéristique sensible\n",
    " - $\\hat{Y}$ : la prédiction de la caractéristique de sortie\n",
    " \n",
    " \n",
    "**Définition 1 : *equalized odds***\n",
    "\n",
    "On dit que $\\hat{Y}$ satisfait l'égalité des chance par rapport à $S$ et $Y$ si :\n",
    "$$\n",
    "P(\\hat{Y}=1 \\mid S=0, Y=y)=P(\\hat{Y}=1 \\mid S=1, Y=y) ; \\quad y=0,1\n",
    "$$\n",
    "Autrement dit, $\\hat{Y}$ est indépendant de $S$ conditionnellement à $Y$.\n",
    "\n",
    "**Définition 2 : *demographic parity***\n",
    "\n",
    "On dit que $\\hat{Y}$ satisfait la parité démographique par rapport à $S$ si :\n",
    "$$\n",
    "P(\\hat{Y}=1 \\mid S=0)=P(\\hat{Y}=1 \\mid S=1)\n",
    "$$\n",
    "Autrement dit, $\\hat{Y}$ est indépendant de S.\n",
    "\n",
    "**Définition 3 : *counterfactual fairness***\n",
    "\n",
    "On dit que $\\hat{Y}$ satisfait l'équité contrefactuelle par rapport à $S$ et $X$ si :\n",
    "$$\n",
    "P(\\hat{Y}=1 \\mid S=0, X=x)=P(\\hat{Y}=1 \\mid S=1, X=x)\n",
    "$$\n",
    "Autrement dit, $\\hat{Y}$ est indépendant de $S$ conditionnellement à $X$.\n",
    "\n",
    "L'égalité des chance et la parité démographique sont des métriques de parité de groupe (*group fairness*), on cherche à avoir le même traitement pour des groupes de personnes définie par leur variables sensibles $S$. Alors que l'équité contrefactuelle est une métrique de parité individuelle (*individual fairness*), on cherche à fournir un traitement similaire à des personnes similaires peut importe leur variables sensibles.\n",
    "Il est tout à fait possible d'avoir une interaction entre deux métriques des deux groupes on a alors un *subgroup fairness*.\n",
    "\n",
    "## Application de la *fairness*\n",
    "\n",
    "Les problèmes de biais algorithmiques peuvent survenir des données ou du modèle c'est pour cela que l'on peut catégorisé les méthodes d'implémentation des solutions de *fairness* en trois parties :\n",
    " - pre-processing : ces méthodes qui ne dépendent pas du modèle tendent à mitiger les problèmes de *fairness* avant que les données soit utilisé dans un modèle statistique. Il s'agit souvent de transformer une ou plusieurs caractéristiques ou de changer la représentation des groupes.\n",
    " - in-processing : ces méthodes incorporent dans le processus d'entraînement les métriques que l'on cherche à minimiser.  \n",
    " - post-processing : ces méthodes n'ont pas besoin d'un accès au modèle d'entraînement mais au lieu de traiter le problème de *fairness* sur la base de données d'entraînement on se base sur les prédictions.  \n",
    "\n",
    "\n",
    "Dans la suite nous allons illustrer les différents biais qu'il peut exister dans notre modèle de prédiction de défaut en prenant comme variable sensible le sexe de l'individu. Nous verrons ensuite l'implémentation de méthodes *pre-processing*, *post-processing* et *in-processing*."
   ]
  },
  {
   "cell_type": "markdown",
   "metadata": {},
   "source": [
    "## Mise en situation et implémentations\n",
    "\n",
    "### Utilisation de la matrice de confusion\n",
    "\n",
    "La majorité des mesures de partialité sont basées sur la matrice de confusion. Elle comporte quatre classes :\n",
    " - Vrai positif (VP) : la vraie classe est 1 et la classe prédite est 1\n",
    " - Faux positif (FP) : la vraie classe est 0 et la classe prédite est 1 \n",
    " - Vrai négatif (VN) : la vraie classe est 0 et la classe prédite est 0\n",
    " - Faux négatif (FN) : la vraie classe est 1 et la classe prédite est 0\n",
    "\n",
    "Les métriques de partialité sont calculé à partir de ces 4 valeurs pour des groupes de personnes partagants des caractéristiques communes (sex, ethnicité) "
   ]
  },
  {
   "cell_type": "code",
   "execution_count": 3,
   "metadata": {
    "code_folding": true
   },
   "outputs": [
    {
     "data": {
      "image/png": "[encoded data removed]",
      "text/plain": [
       "<Figure size 432x288 with 2 Axes>"
      ]
     },
     "metadata": {},
     "output_type": "display_data"
    }
   ],
   "source": [
    "title = 'Matrice de confusion de la régression logistique'\n",
    "disp = plot_confusion_matrix(logreg,\n",
    "                             X_test,\n",
    "                             y_test,\n",
    "                             cmap=plt.cm.Blues)\n",
    "ax = disp.ax_.set_title(title)\n",
    "plt.show()"
   ]
  },
  {
   "cell_type": "markdown",
   "metadata": {},
   "source": [
    "Dans cette représentation on a :\n",
    " - Vrai positif : bas à droite\n",
    " - Faux positif : haut à droite\n",
    " - Vrai négatif : haut à gauche\n",
    " - Faut négatif : bas à droite"
   ]
  },
  {
   "cell_type": "markdown",
   "metadata": {},
   "source": [
    "## Métriques de parité"
   ]
  },
  {
   "cell_type": "markdown",
   "metadata": {},
   "source": [
    "Pour illustrer la *fairness* on va utilisé notre modèle de régression logistique implémenté dans l'article *intro*. Pour calculer les différentes métriques nous utilisons la boîte à outils développé par IBM : *AI Fairness 360*. Cette boite à outils implémente les calculs des biais mais aussi les méthodes de mitigations de ceux-ci."
   ]
  },
  {
   "cell_type": "code",
   "execution_count": 4,
   "metadata": {},
   "outputs": [],
   "source": [
    "%%capture\n",
    "from aif360.datasets import BinaryLabelDataset\n",
    "from aif360.metrics import ClassificationMetric"
   ]
  },
  {
   "cell_type": "markdown",
   "metadata": {},
   "source": [
    "La manière dont *AIF360* fonctionne pour le calcul de métrique de parité est la suivante :\n",
    " - On créer un dataframe (results) qui contient le $Y$, $\\hat{Y}$ et la variable sensible en binaire"
   ]
  },
  {
   "cell_type": "code",
   "execution_count": 11,
   "metadata": {},
   "outputs": [
    {
     "data": {
      "text/html": [
       "<div>\n",
       "<style scoped>\n",
       "    .dataframe tbody tr th:only-of-type {\n",
       "        vertical-align: middle;\n",
       "    }\n",
       "\n",
       "    .dataframe tbody tr th {\n",
       "        vertical-align: top;\n",
       "    }\n",
       "\n",
       "    .dataframe thead th {\n",
       "        text-align: right;\n",
       "    }\n",
       "</style>\n",
       "<table border=\"1\" class=\"dataframe\">\n",
       "  <thead>\n",
       "    <tr style=\"text-align: right;\">\n",
       "      <th></th>\n",
       "      <th>test</th>\n",
       "      <th>pred</th>\n",
       "      <th>sex</th>\n",
       "    </tr>\n",
       "  </thead>\n",
       "  <tbody>\n",
       "    <tr>\n",
       "      <th>297</th>\n",
       "      <td>0</td>\n",
       "      <td>0</td>\n",
       "      <td>0</td>\n",
       "    </tr>\n",
       "    <tr>\n",
       "      <th>333</th>\n",
       "      <td>0</td>\n",
       "      <td>0</td>\n",
       "      <td>1</td>\n",
       "    </tr>\n",
       "    <tr>\n",
       "      <th>920</th>\n",
       "      <td>0</td>\n",
       "      <td>0</td>\n",
       "      <td>1</td>\n",
       "    </tr>\n",
       "  </tbody>\n",
       "</table>\n",
       "</div>"
      ],
      "text/plain": [
       "     test  pred  sex\n",
       "297     0     0    0\n",
       "333     0     0    1\n",
       "920     0     0    1"
      ]
     },
     "execution_count": 11,
     "metadata": {},
     "output_type": "execute_result"
    }
   ],
   "source": [
    "y_test = pd.Series(model.predict(X_test), index=X_test.index, name='test')\n",
    "y_pred = pd.Series(y_test, index=X_test.index, name='pred')\n",
    "sex_bin = X_test.sex.map({'male': 0, 'female': 1})\n",
    "\n",
    "results = pd.concat([y_test, y_pred, sex_bin], axis=1)\n",
    "\n",
    "results.head(3)"
   ]
  },
  {
   "cell_type": "markdown",
   "metadata": {},
   "source": [
    " - On utilise l'objet BinaryLabelDataset en précisant le label et la variable sensible. Un pour les prédictions et un pour les tests. On fait également bien attention à préciser que le label 1 n'est pas positif pour la personne, il correspond à une prédiction de défaut."
   ]
  },
  {
   "cell_type": "code",
   "execution_count": 12,
   "metadata": {},
   "outputs": [],
   "source": [
    "bld_test = BinaryLabelDataset(df=results,\n",
    "                              label_names=['test'], \n",
    "                              protected_attribute_names=['sex'],\n",
    "                              favorable_label=0, \n",
    "                              unfavorable_label=1)\n",
    "\n",
    "bld_pred = BinaryLabelDataset(df=results,\n",
    "                              label_names=['pred'], \n",
    "                              protected_attribute_names=['sex'],\n",
    "                              favorable_label=0, \n",
    "                              unfavorable_label=1)"
   ]
  },
  {
   "cell_type": "markdown",
   "metadata": {},
   "source": [
    " - On utilise ensuite l'objet *ClassificationMetric* qui prend en entrée deux *BinaryLabelDataset* et une classification des groupes privilégiés. Il permets ensuite de calculer un très grands nombre de métrique ([liste](https://aif360.readthedocs.io/en/latest/modules/sklearn.html#module-aif360.sklearn.metrics))"
   ]
  },
  {
   "cell_type": "code",
   "execution_count": 7,
   "metadata": {},
   "outputs": [],
   "source": [
    "fairness_metrics = ClassificationMetric(bld_test, bld_pred, \n",
    "                                        unprivileged_groups=[{'sex': 1}],\n",
    "                                        privileged_groups=[{'sex': 0}])"
   ]
  },
  {
   "cell_type": "markdown",
   "metadata": {},
   "source": [
    "Average of difference in FPR and TPR for unprivileged and privileged\n",
    "groups:\n",
    "\n",
    "   $$\\tfrac{1}{2}\\left[(FPR_{D = \\text{unprivileged}} - FPR_{D = \\text{privileged}})\n",
    "   + (TPR_{D = \\text{unprivileged}} - TPR_{D = \\text{privileged}}))\\right]$$\n",
    "\n",
    "A value of 0 indicates equality of odds."
   ]
  },
  {
   "cell_type": "code",
   "execution_count": 8,
   "metadata": {},
   "outputs": [
    {
     "data": {
      "text/plain": [
       "-0.14944444444444446"
      ]
     },
     "execution_count": 8,
     "metadata": {},
     "output_type": "execute_result"
    }
   ],
   "source": [
    "fairness_metrics.average_odds_difference()"
   ]
  },
  {
   "cell_type": "markdown",
   "metadata": {},
   "source": [
    "$$Pr(\\hat{Y} = 1 | D = \\text{unprivileged})\n",
    "   - Pr(\\hat{Y} = 1 | D = \\text{privileged})$$"
   ]
  },
  {
   "cell_type": "code",
   "execution_count": 9,
   "metadata": {},
   "outputs": [
    {
     "data": {
      "text/plain": [
       "-0.19117647058823528"
      ]
     },
     "execution_count": 9,
     "metadata": {},
     "output_type": "execute_result"
    }
   ],
   "source": [
    "fairness_metrics.statistical_parity_difference()"
   ]
  },
  {
   "cell_type": "markdown",
   "metadata": {},
   "source": [
    "$$TPR_{D = \\text{unprivileged}} - TPR_{D = \\text{privileged}}$$"
   ]
  },
  {
   "cell_type": "code",
   "execution_count": 10,
   "metadata": {},
   "outputs": [
    {
     "data": {
      "text/plain": [
       "-0.16000000000000003"
      ]
     },
     "execution_count": 10,
     "metadata": {},
     "output_type": "execute_result"
    }
   ],
   "source": [
    "fairness_metrics.true_positive_rate_difference()"
   ]
  },
  {
   "cell_type": "markdown",
   "metadata": {},
   "source": [
    "$$\\frac{Pr(\\hat{Y} = 1 | D = \\text{unprivileged})}\n",
    "   {Pr(\\hat{Y} = 1 | D = \\text{privileged})}$$"
   ]
  },
  {
   "cell_type": "code",
   "execution_count": 11,
   "metadata": {},
   "outputs": [
    {
     "data": {
      "text/plain": [
       "0.7657657657657658"
      ]
     },
     "execution_count": 11,
     "metadata": {},
     "output_type": "execute_result"
    }
   ],
   "source": [
    "fairness_metrics.disparate_impact()"
   ]
  },
  {
   "cell_type": "code",
   "execution_count": 12,
   "metadata": {},
   "outputs": [
    {
     "data": {
      "text/plain": [
       "0.755"
      ]
     },
     "execution_count": 12,
     "metadata": {},
     "output_type": "execute_result"
    }
   ],
   "source": [
    "fairness_metrics.accuracy()"
   ]
  },
  {
   "cell_type": "markdown",
   "metadata": {},
   "source": [
    "# Comment mitiger les risques de discrimination\n",
    "\n",
    "## Présentation des trois grandes familles \n",
    "\n",
    "### Pre-Processing"
   ]
  },
  {
   "cell_type": "markdown",
   "metadata": {},
   "source": [
    "### In-Processing"
   ]
  },
  {
   "cell_type": "markdown",
   "metadata": {},
   "source": [
    "### Post-Processing"
   ]
  },
  {
   "cell_type": "markdown",
   "metadata": {},
   "source": [
    "## Implémentation des méthodes\n",
    "\n",
    "### Pre-processing : *Reweight*"
   ]
  },
  {
   "cell_type": "code",
   "execution_count": 32,
   "metadata": {},
   "outputs": [],
   "source": [
    "%%capture\n",
    "from aif360.algorithms.preprocessing import Reweighing"
   ]
  },
  {
   "cell_type": "code",
   "execution_count": 33,
   "metadata": {},
   "outputs": [],
   "source": [
    "rw = Reweighing(unprivileged_groups=[{'sex': 1}], \n",
    "                privileged_groups=[{'sex': 0}])"
   ]
  },
  {
   "cell_type": "code",
   "execution_count": 34,
   "metadata": {},
   "outputs": [],
   "source": [
    "if 'sex' in cat_variables: cat_variables.remove('sex')\n",
    "\n",
    "preprocess = ColumnTransformer(\n",
    "    transformers=[\n",
    "        ('cat', OneHotEncoder(drop='first'), cat_variables),\n",
    "        ('ord', StandardScaler(), ord_variables)\n",
    "    ])\n",
    "\n",
    "X_train_proc = preprocess.fit_transform(X_train.drop(columns='sex'))\n",
    "X_train_proc = pd.concat([pd.DataFrame(X_train_proc, index=X_train.index), \n",
    "                          X_train.sex.map({'male':0, 'female':1})], axis=1)"
   ]
  },
  {
   "cell_type": "code",
   "execution_count": 35,
   "metadata": {
    "tags": [
     "remove_output"
    ]
   },
   "outputs": [],
   "source": [
    "%%capture\n",
    "bld_train = BinaryLabelDataset(df=pd.concat([X_train_proc, y_train], axis=1),\n",
    "                                                label_names=['default'], \n",
    "                                                protected_attribute_names=['sex'],\n",
    "                                                favorable_label=0, unfavorable_label=1)\n",
    "bld_train = rw.fit_transform(bld_train)\n",
    "w_train = bld_train.instance_weights.ravel()\n",
    "model.fit(X_train, y_train, logreg__sample_weight = w_train)"
   ]
  },
  {
   "cell_type": "code",
   "execution_count": 36,
   "metadata": {},
   "outputs": [],
   "source": [
    "y_test_pred = pd.Series(model.predict(X_test), index=X_test.index, name='defaut')\n",
    "y_test = pd.Series(y_test, index=X_test.index, name='defaut')\n",
    "sex_test = X_test.sex.map({'male': 0, 'female':1})"
   ]
  },
  {
   "cell_type": "code",
   "execution_count": 37,
   "metadata": {},
   "outputs": [],
   "source": [
    "bld_test_pred = BinaryLabelDataset(df=pd.concat([y_test_pred, sex_test], axis=1),\n",
    "                                                label_names=['defaut'], \n",
    "                                                protected_attribute_names=['sex'],\n",
    "                                                favorable_label=0, unfavorable_label=1)\n",
    "bld_test = BinaryLabelDataset(df=pd.concat([y_test, sex_test], axis=1),\n",
    "                                           label_names=['defaut'], \n",
    "                                           protected_attribute_names=['sex'],\n",
    "                                           favorable_label=0, unfavorable_label=1)"
   ]
  },
  {
   "cell_type": "code",
   "execution_count": 38,
   "metadata": {},
   "outputs": [],
   "source": [
    "fairness_metrics = ClassificationMetric(bld_test, bld_test_pred, \n",
    "                         unprivileged_groups=[{'sex': 1}], privileged_groups=[{'sex': 0}])"
   ]
  },
  {
   "cell_type": "code",
   "execution_count": 39,
   "metadata": {},
   "outputs": [
    {
     "data": {
      "text/plain": [
       "-0.09222222222222223"
      ]
     },
     "execution_count": 39,
     "metadata": {},
     "output_type": "execute_result"
    }
   ],
   "source": [
    "fairness_metrics.average_odds_difference()"
   ]
  },
  {
   "cell_type": "code",
   "execution_count": 40,
   "metadata": {},
   "outputs": [
    {
     "data": {
      "text/plain": [
       "-0.13786764705882348"
      ]
     },
     "execution_count": 40,
     "metadata": {},
     "output_type": "execute_result"
    }
   ],
   "source": [
    "fairness_metrics.statistical_parity_difference()"
   ]
  },
  {
   "cell_type": "code",
   "execution_count": 41,
   "metadata": {},
   "outputs": [
    {
     "data": {
      "text/plain": [
       "-0.11499999999999999"
      ]
     },
     "execution_count": 41,
     "metadata": {},
     "output_type": "execute_result"
    }
   ],
   "source": [
    "fairness_metrics.true_positive_rate_difference()"
   ]
  },
  {
   "cell_type": "code",
   "execution_count": 42,
   "metadata": {},
   "outputs": [
    {
     "data": {
      "text/plain": [
       "0.826388888888889"
      ]
     },
     "execution_count": 42,
     "metadata": {},
     "output_type": "execute_result"
    }
   ],
   "source": [
    "fairness_metrics.disparate_impact()"
   ]
  },
  {
   "cell_type": "code",
   "execution_count": 43,
   "metadata": {},
   "outputs": [
    {
     "data": {
      "text/plain": [
       "0.75"
      ]
     },
     "execution_count": 43,
     "metadata": {},
     "output_type": "execute_result"
    }
   ],
   "source": [
    "fairness_metrics.accuracy()"
   ]
  },
  {
   "cell_type": "markdown",
   "metadata": {},
   "source": [
    "### In-processing : ?"
   ]
  },
  {
   "cell_type": "markdown",
   "metadata": {},
   "source": [
    "### Post-processing : *Calibrated Equal Odds*"
   ]
  },
  {
   "cell_type": "code",
   "execution_count": 25,
   "metadata": {},
   "outputs": [],
   "source": [
    "from aif360.algorithms.postprocessing import CalibratedEqOddsPostprocessing"
   ]
  },
  {
   "cell_type": "code",
   "execution_count": 26,
   "metadata": {},
   "outputs": [],
   "source": [
    "cpp = CalibratedEqOddsPostprocessing(unprivileged_groups=[{'sex': 1}], \n",
    "                                   privileged_groups=[{'sex': 0}],\n",
    "                                   cost_constraint='fpr')\n",
    "cpp = cpp.fit(bld_test, bld_test_pred)\n",
    "\n",
    "bld_test_pred = cpp.predict(bld_test_pred)\n",
    "\n",
    "fairness_metrics = ClassificationMetric(bld_test, bld_test_pred, \n",
    "                         unprivileged_groups=[{'sex': 1}], privileged_groups=[{'sex': 0}])"
   ]
  },
  {
   "cell_type": "code",
   "execution_count": 27,
   "metadata": {},
   "outputs": [
    {
     "data": {
      "text/plain": [
       "0.1547222222222222"
      ]
     },
     "execution_count": 27,
     "metadata": {},
     "output_type": "execute_result"
    }
   ],
   "source": [
    "fairness_metrics.average_odds_difference()"
   ]
  },
  {
   "cell_type": "code",
   "execution_count": 28,
   "metadata": {},
   "outputs": [
    {
     "data": {
      "text/plain": [
       "0.07444852941176472"
      ]
     },
     "execution_count": 28,
     "metadata": {},
     "output_type": "execute_result"
    }
   ],
   "source": [
    "fairness_metrics.statistical_parity_difference()"
   ]
  },
  {
   "cell_type": "code",
   "execution_count": 29,
   "metadata": {},
   "outputs": [
    {
     "data": {
      "text/plain": [
       "-0.010000000000000009"
      ]
     },
     "execution_count": 29,
     "metadata": {},
     "output_type": "execute_result"
    }
   ],
   "source": [
    "fairness_metrics.true_positive_rate_difference()"
   ]
  },
  {
   "cell_type": "code",
   "execution_count": 30,
   "metadata": {},
   "outputs": [
    {
     "data": {
      "text/plain": [
       "1.0912162162162162"
      ]
     },
     "execution_count": 30,
     "metadata": {},
     "output_type": "execute_result"
    }
   ],
   "source": [
    "fairness_metrics.disparate_impact()"
   ]
  },
  {
   "cell_type": "code",
   "execution_count": 31,
   "metadata": {},
   "outputs": [
    {
     "data": {
      "text/plain": [
       "0.73"
      ]
     },
     "execution_count": 31,
     "metadata": {},
     "output_type": "execute_result"
    }
   ],
   "source": [
    "fairness_metrics.accuracy()"
   ]
  },
  {
   "cell_type": "markdown",
   "metadata": {},
   "source": [
    "# Critique de la partie 2 et recommendations\n",
    "\n",
    "## Compromis \n",
    " - Est-ce que les hommes sont lésés par ces méthodes ?\n",
    " - Est-ce que ces méthodes sont beaucoup plus longues ?\n",
    " \n",
    "## Ouverture "
   ]
  }
 ],
 "metadata": {
  "jupytext": {
   "formats": "ipynb,Rmd,py:percent"
  },
  "kernelspec": {
   "display_name": "Python 3",
   "language": "python",
   "name": "python3"
  },
  "language_info": {
   "codemirror_mode": {
    "name": "ipython",
    "version": 3
   },
   "file_extension": ".py",
   "mimetype": "text/x-python",
   "name": "python",
   "nbconvert_exporter": "python",
   "pygments_lexer": "ipython3",
   "version": "3.9.6"
  }
 },
 "nbformat": 4,
 "nbformat_minor": 4
}
