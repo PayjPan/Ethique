{
 "cells": [
  {
   "cell_type": "raw",
   "id": "972c0c4e-6194-4ee5-99b3-bff588c761d4",
   "metadata": {},
   "source": [
    "---\n",
    "title: \"robustness\"\n",
    "site: distill::distill_website\n",
    "---"
   ]
  },
  {
   "cell_type": "code",
   "execution_count": 2,
   "id": "3aedfcb8-cd40-4b5a-86fb-19a7b5ccde08",
   "metadata": {
    "tags": []
   },
   "outputs": [
    {
     "name": "stderr",
     "output_type": "stream",
     "text": [
      "UsageError: Cell magic `%%R` not found.\n"
     ]
    }
   ],
   "source": [
    "%%R\n",
    "library(reticulate)\n",
    "use_condaenv('ethique_env')"
   ]
  },
  {
   "cell_type": "code",
   "execution_count": 3,
   "id": "german-sarah",
   "metadata": {},
   "outputs": [],
   "source": [
    "import matplotlib.pyplot as plt\n",
    "import pandas as pd\n",
    "import numpy as np\n",
    "\n",
    "from tqdm import tqdm\n",
    "from itertools import product\n",
    "\n",
    "from sklearn.linear_model import LogisticRegression\n",
    "\n",
    "import seaborn as sns\n",
    "sns.set_theme(style='darkgrid')"
   ]
  },
  {
   "cell_type": "code",
   "execution_count": 4,
   "id": "1e0ae107-aabc-406f-b409-813c80a4fe2c",
   "metadata": {},
   "outputs": [],
   "source": [
    "%%capture\n",
    "%run ./german.ipynb"
   ]
  },
  {
   "cell_type": "code",
   "execution_count": 32,
   "id": "reduced-vampire",
   "metadata": {},
   "outputs": [],
   "source": [
    "seed = 2021   # Keep results consistent through testing\n",
    "NEW = False   # True : recreate all data (can be very long), False : read data from disk"
   ]
  },
  {
   "cell_type": "markdown",
   "id": "third-flash",
   "metadata": {},
   "source": [
    "# Il est plutôt facile de faire dire ce que l'on veut à un modèle\n",
    "\n",
    "## Définition de *robustness*"
   ]
  },
  {
   "cell_type": "markdown",
   "id": "03f2d4e3-d608-45f0-9e4a-0776243ee2f8",
   "metadata": {},
   "source": [
    "[source](https://shubhobm.github.io/docs/bigdata_book_chapter.pdf)\n",
    "\n",
    "\n",
    "Le concept de *robustness* n'est pas apparut avec les modèles d'apprentissage machines. C'est une notion importante en statistique et en économétrie. Il est défini de la manière suivante :\n",
    "\n",
    "Un modèle est robuste s'il n'est pas affecté par la présence de valeurs aberrantes ou de déviation des hypothèses sur les données de départ.\n",
    "\n",
    "Ce qui a évolué c'est la manière dont sont mis à jour les modèles. Si auparavant les modèles n'était entraîné au sein d'un laboratoire avec un grand contrôle des données d'entraînement, aujourd'hui les modèles se mettent à jour constamment et de manière automatisé. Cela implique une perte de contrôle stricte des données et une nouvelle vulnérabilité d'où l'ajout d'un nouveau rôle pour la *robustness*.\n",
    "\n",
    "Un modèle est robuste s'il n'est pas affecté par des données qui ne sont pas similaire à ceux sur lesquels le modèle s'est entraîné.\n",
    "\n",
    "Dans la plus part des cas ces données sont spécifiquement construite par une entité malveillante dans le but de grandement impacter les résultats du modèle de départ. C'est pour cela que cette nouvelle notion de *robustness* est nommée *adverserial robustness* (*adverserial* dans le sens conflictuel).\n",
    "\n",
    "Il existe trois catégorisations des attaques d'*adverserial robustness* qui répondent chacune à une question : \n",
    " - Qui est attaqué ?\n",
    " - Commet il est attaqué ?\n",
    " - Pourquoi il est attaqué ?\n",
    " \n",
    "Tout comme les attaques de *privacy* les attaques d'*adverserial robustness* sont catégorisé dans un premier temps entre les attaques sur modèle boîte blanche et sur modèle boîte noire. Un modèle boite blanche est un modèle dont on peut prévoir le fonctionnement interne car on connaît toutes ces caractéristiques des éléments qui le compose. ([white box](https://fr.wikipedia.org/wiki/Bo%C3%AEte_blanche)) En apprentissage statistique cela corresponds à un modèle où l'on a accès aux données d'entraînement et de test, à la structure, aux coefficients et toutes autre information permettant de reproduire à l'identique le modèle. Les modèles boite noire est un modèle où l'on à aucune visibilité sur son fonctionnement interne, on a juste accès aux entrées et aux sorties. En apprentissage statistique cela correspond à la majorité des modèles commerciaux sous forme d'API (*Application Programming Interface*). L'utilisateur de ces modèles envois des données au modèles et ne récupère que la sortie. Les attaques *adverserial robustness* contre les modèles boîtes blanches sont rares car ils les rendent trop facile à mettre en oeuvres donc les modèles nécessitant la *robunstness* sont principalement en boite noire.\n",
    "\n",
    "### Qui il est attaqué ?\n",
    "Lors d'une attaque on peut choisir qu'elle partie du modèle sera la cible en en fonction de cela l'attaque aura un nom différent, les attaques d'évasion (*evasion attacks*), les attaques d'empoisonnement (*poisining attacks*) et les attaques d'exploration (*exploration attacks*).\n",
    "Ces familles sont présentées en détail dans la suite de cette articles mais peuvent être résumé à :\n",
    " - Évasion : l'ajustement des données de test\n",
    " - Empoisonnement : l'ajustement des données d'entraînement \n",
    " - Exploration : questionnement du modèle boite noire pour faire de la rétro-ingénierie\n",
    " \n",
    "### Comment il est attaqué ?\n",
    "Les raisons des attaques dépends grandement à la quantité et au type d'information dont l'adversaire dispose. \n",
    "\n",
    "Avant l'entraînement : \n",
    "Selon s'il a accès à la modification de la base d'entraînement ou uniquement à l'ajout à celle-ci il pourra effectuer un *data modification* ou un *data injection*. Si en revanche il a accès au modèle il pourra corrompre directement la logique de celui-ci (*logic corruption*)\n",
    "\n",
    "Après l'entraînement : \n",
    " - *Adaptative attacks* : on modifie nos entrées en multipliant nos requêtes jusqu'à ce que la sortie nous convienne. Soit dans le but d'une sortie spécifique soit pour créer des entrées sur lesquels le modèle ai beaucoup d'erreurs. [182,183] **METTRE DES EXEMPLES ?**\n",
    " - *Non-adaptative attacks* : on modifie nos entrées grâce à une connaissance en amont d'information sur les données d'entraînement dans le même but que pour les attaques adaptatives. \n",
    " \n",
    "### Pourquoi il est attaqué ?\n",
    "On peut réduire les raisons d'une attaques à quatre grandes familles :\n",
    " - Réduction de la qualité générale de prédiction d'un modèle\n",
    " - Engendrer une erreur de classification sur toutes les entrées\n",
    " - Engendrer une erreur de classification sur tout une classe d'entrée\n",
    " - Engendrer une erreur de classification sur une entrée précise\n",
    "\n",
    "[source](https://arxiv.org/pdf/1810.00069.pdf)\n",
    "\n",
    "Dans la suite nous allons mettre en oeuvre deux attaques : \n",
    " - une évasion contre un modèle boite noire de type attaque adaptative ayant pour but d'engendrer une erreur de classification sur une entrée précise.\n",
    " - un empoisonnement contre un modèle boîte noire de type *data injection* ayant pour but d'engendrer une erreur de classification sur une entrée précise."
   ]
  },
  {
   "cell_type": "markdown",
   "id": "listed-bloom",
   "metadata": {},
   "source": [
    "## Description générales des différentes attaques et implémentations\n",
    "\n",
    "Le cas de figure est le suivant, on suppose que notre banque utilise le modèle de régression logistique développé dans l'article d'introduction. Celui-ci utilise une base d'entraînement de 800 personnes et les classe en fonction de leur capacité de remboursement (0 : capable de rembourser, 1 : incapable de rembourser). Dans cette optique on peut tous à fait concevoir qu'un individu apprenant que son prêts a été refuser par le modèle cherche à contourner celui-ci. Nous présentons ici deux cas de figure. "
   ]
  },
  {
   "cell_type": "markdown",
   "id": "fifth-plant",
   "metadata": {},
   "source": [
    "### Évasion\n",
    "\n",
    "On se place dans une situation où l'individu est en mesure de questionné le modèle sans contrainte. On peut imaginer un problème de sécurité qui cause la divulgation du modèle, l'utilisation par la banque d'un modèle open source ou l'utilisation d'un modèle annexe que l'on aurait calibré grâce au méthode de *model extractio* (cf. l'article *privacy*). Le type d'attaque utilisé est une attaque adaptative donc on va chercher les variables non vérifiables et les modifiées jusqu'à ce que l'individu refusé soit accepté.\n",
    "\n",
    "En observant les différentes variables on remaque que très peu de variables peuvent être modifier sans que cela soit vérifiable, cela paraît réaliste, c'est une base de données pour crédit.\n",
    "On peut néanmoins supposé que ces deux variables peuvent être falsifié sans trop de difficulté.\n",
    " - purpose : correspond à la finalité du prêt\n",
    " - personal_status : la condition de vie en couple\n",
    "\n",
    "Mais également ces trois autres variables paraisse difficilement vérifiable si le banquier ne prête pas attention :\n",
    " - present_emp_since : depuis quand la personne travail à son poste\n",
    " - job : le type de travaille de la personne\n",
    " - people_under_maintenance : le nombre de personne à charge\n",
    " \n",
    "On choisit ensuite une personne refusé pour jouer le rôle d'adversaire :"
   ]
  },
  {
   "cell_type": "code",
   "execution_count": 148,
   "id": "9f6a61c7-1ed3-474c-a272-bd990a534a1a",
   "metadata": {},
   "outputs": [
    {
     "data": {
      "text/plain": [
       "account_check_status                                                     < 0 DM\n",
       "duration_in_month                                                            48\n",
       "credit_history                         existing credits paid back duly till now\n",
       "purpose                                                     domestic appliances\n",
       "credit_amount                                                              6758\n",
       "savings                                                            ... < 100 DM\n",
       "present_emp_since                                            1 <= ... < 4 years\n",
       "installment_as_income_perc                                                    3\n",
       "sex                                                                      female\n",
       "personal_status                                                        divorced\n",
       "other_debtors                                                              none\n",
       "present_res_since                                                             2\n",
       "property                      if not A121/A122 : car or other, not in attrib...\n",
       "age                                                                          31\n",
       "other_installment_plans                                                    none\n",
       "housing                                                                     own\n",
       "credits_this_bank                                                             1\n",
       "job                                                 skilled employee / official\n",
       "people_under_maintenance                                                      1\n",
       "telephone                              yes, registered under the customers name\n",
       "foreign_worker                                                              yes\n",
       "Name: 569, dtype: object"
      ]
     },
     "execution_count": 148,
     "metadata": {},
     "output_type": "execute_result"
    }
   ],
   "source": [
    "idx_default = np.where(logreg.predict_proba(X)[:, 1] > 0.5)\n",
    "\n",
    "np.random.seed(seed)\n",
    "adv_ind = X.iloc[np.random.choice(idx_default[0])]\n",
    "adv_ind"
   ]
  },
  {
   "cell_type": "markdown",
   "id": "1c1677ba-6b38-496e-bf46-00a602e2106c",
   "metadata": {},
   "source": [
    "Notre individu (569) est donc une femme étrangère divorcée de 31 ans avec une personne à sa charge qui a remboursé toutes ces dettes jusqu'à aujourd'hui. Il se voit refuser sont crédit de consommation.\n",
    "\n",
    "Pour pouvoir se faire accepter son crédit il va créé toutes les combinaisons possible pour les variables difficilement vérifiables et les faire tester par le modèle. "
   ]
  },
  {
   "cell_type": "code",
   "execution_count": 149,
   "id": "resident-holiday",
   "metadata": {},
   "outputs": [],
   "source": [
    "# variables that are difficults to verify\n",
    "var_values = ['purpose', 'personal_status', \n",
    "              'present_emp_since', 'job', \n",
    "              'people_under_maintenance']\n",
    "# variables that are hard to falsify (all the other)\n",
    "fix_values = [x for x in X.columns if x not in var_values]\n",
    "\n",
    "# catesian product of all possibilities from variables that can change\n",
    "all_values = [X[col].unique() for col in var_values]\n",
    "prod = list(product(*all_values))   \n",
    "\n",
    "# all possible entries that can be generated\n",
    "all_adv_ind = pd.DataFrame([adv_ind[fix_values].tolist() + list(p) for p in prod],\n",
    "                      columns=fix_values + var_values)\n",
    "all_adv_ind = all_adv_ind[X.columns]\n",
    "\n",
    "# predict the score for all entries\n",
    "all_adv_ind['proba'] = logreg.predict_proba(all_adv_ind)[:, 1]"
   ]
  },
  {
   "cell_type": "code",
   "execution_count": 150,
   "id": "together-bidder",
   "metadata": {},
   "outputs": [
    {
     "data": {
      "text/html": [
       "<div>\n",
       "<style scoped>\n",
       "    .dataframe tbody tr th:only-of-type {\n",
       "        vertical-align: middle;\n",
       "    }\n",
       "\n",
       "    .dataframe tbody tr th {\n",
       "        vertical-align: top;\n",
       "    }\n",
       "\n",
       "    .dataframe thead th {\n",
       "        text-align: right;\n",
       "    }\n",
       "</style>\n",
       "<table border=\"1\" class=\"dataframe\">\n",
       "  <thead>\n",
       "    <tr style=\"text-align: right;\">\n",
       "      <th></th>\n",
       "      <th>account_check_status</th>\n",
       "      <th>duration_in_month</th>\n",
       "      <th>credit_history</th>\n",
       "      <th>purpose</th>\n",
       "      <th>credit_amount</th>\n",
       "      <th>savings</th>\n",
       "      <th>present_emp_since</th>\n",
       "      <th>installment_as_income_perc</th>\n",
       "      <th>sex</th>\n",
       "      <th>personal_status</th>\n",
       "      <th>...</th>\n",
       "      <th>age</th>\n",
       "      <th>other_installment_plans</th>\n",
       "      <th>housing</th>\n",
       "      <th>credits_this_bank</th>\n",
       "      <th>job</th>\n",
       "      <th>people_under_maintenance</th>\n",
       "      <th>telephone</th>\n",
       "      <th>foreign_worker</th>\n",
       "      <th>proba</th>\n",
       "      <th>diff</th>\n",
       "    </tr>\n",
       "  </thead>\n",
       "  <tbody>\n",
       "    <tr>\n",
       "      <th>488</th>\n",
       "      <td>&lt; 0 DM</td>\n",
       "      <td>48</td>\n",
       "      <td>existing credits paid back duly till now</td>\n",
       "      <td>car (used)</td>\n",
       "      <td>6758</td>\n",
       "      <td>... &lt; 100 DM</td>\n",
       "      <td>1 &lt;= ... &lt; 4 years</td>\n",
       "      <td>3</td>\n",
       "      <td>female</td>\n",
       "      <td>single</td>\n",
       "      <td>...</td>\n",
       "      <td>31</td>\n",
       "      <td>none</td>\n",
       "      <td>own</td>\n",
       "      <td>1</td>\n",
       "      <td>skilled employee / official</td>\n",
       "      <td>1</td>\n",
       "      <td>yes, registered under the customers name</td>\n",
       "      <td>yes</td>\n",
       "      <td>0.445632</td>\n",
       "      <td>2</td>\n",
       "    </tr>\n",
       "    <tr>\n",
       "      <th>536</th>\n",
       "      <td>&lt; 0 DM</td>\n",
       "      <td>48</td>\n",
       "      <td>existing credits paid back duly till now</td>\n",
       "      <td>car (used)</td>\n",
       "      <td>6758</td>\n",
       "      <td>... &lt; 100 DM</td>\n",
       "      <td>4 &lt;= ... &lt; 7 years</td>\n",
       "      <td>3</td>\n",
       "      <td>female</td>\n",
       "      <td>divorced</td>\n",
       "      <td>...</td>\n",
       "      <td>31</td>\n",
       "      <td>none</td>\n",
       "      <td>own</td>\n",
       "      <td>1</td>\n",
       "      <td>skilled employee / official</td>\n",
       "      <td>1</td>\n",
       "      <td>yes, registered under the customers name</td>\n",
       "      <td>yes</td>\n",
       "      <td>0.494217</td>\n",
       "      <td>2</td>\n",
       "    </tr>\n",
       "    <tr>\n",
       "      <th>496</th>\n",
       "      <td>&lt; 0 DM</td>\n",
       "      <td>48</td>\n",
       "      <td>existing credits paid back duly till now</td>\n",
       "      <td>car (used)</td>\n",
       "      <td>6758</td>\n",
       "      <td>... &lt; 100 DM</td>\n",
       "      <td>4 &lt;= ... &lt; 7 years</td>\n",
       "      <td>3</td>\n",
       "      <td>female</td>\n",
       "      <td>single</td>\n",
       "      <td>...</td>\n",
       "      <td>31</td>\n",
       "      <td>none</td>\n",
       "      <td>own</td>\n",
       "      <td>1</td>\n",
       "      <td>skilled employee / official</td>\n",
       "      <td>1</td>\n",
       "      <td>yes, registered under the customers name</td>\n",
       "      <td>yes</td>\n",
       "      <td>0.331218</td>\n",
       "      <td>3</td>\n",
       "    </tr>\n",
       "  </tbody>\n",
       "</table>\n",
       "<p>3 rows × 23 columns</p>\n",
       "</div>"
      ],
      "text/plain": [
       "    account_check_status  duration_in_month  \\\n",
       "488               < 0 DM                 48   \n",
       "536               < 0 DM                 48   \n",
       "496               < 0 DM                 48   \n",
       "\n",
       "                               credit_history     purpose  credit_amount  \\\n",
       "488  existing credits paid back duly till now  car (used)           6758   \n",
       "536  existing credits paid back duly till now  car (used)           6758   \n",
       "496  existing credits paid back duly till now  car (used)           6758   \n",
       "\n",
       "          savings   present_emp_since  installment_as_income_perc     sex  \\\n",
       "488  ... < 100 DM  1 <= ... < 4 years                           3  female   \n",
       "536  ... < 100 DM  4 <= ... < 7 years                           3  female   \n",
       "496  ... < 100 DM  4 <= ... < 7 years                           3  female   \n",
       "\n",
       "    personal_status  ... age  other_installment_plans housing  \\\n",
       "488          single  ...  31                     none     own   \n",
       "536        divorced  ...  31                     none     own   \n",
       "496          single  ...  31                     none     own   \n",
       "\n",
       "     credits_this_bank                          job people_under_maintenance  \\\n",
       "488                  1  skilled employee / official                        1   \n",
       "536                  1  skilled employee / official                        1   \n",
       "496                  1  skilled employee / official                        1   \n",
       "\n",
       "                                    telephone foreign_worker     proba diff  \n",
       "488  yes, registered under the customers name            yes  0.445632    2  \n",
       "536  yes, registered under the customers name            yes  0.494217    2  \n",
       "496  yes, registered under the customers name            yes  0.331218    3  \n",
       "\n",
       "[3 rows x 23 columns]"
      ]
     },
     "execution_count": 150,
     "metadata": {},
     "output_type": "execute_result"
    }
   ],
   "source": [
    "# take only the entries that gets a 0\n",
    "valid_adv_ind = all_adv_ind[all_adv_ind.proba < 0.5]\n",
    "\n",
    "# calculate the number of variables that were changedb\n",
    "nb_diff = []\n",
    "for i in range(len(valid_adv_ind)):\n",
    "    val_diff = (valid_adv_ind.iloc[i][var_values] == adv_ind[var_values])\n",
    "    nb_diff += [val_diff.value_counts()[False]]\n",
    "    \n",
    "valid_adv_ind = valid_adv_ind.assign(diff = nb_diff)\n",
    "\n",
    "# take the least change entrie that have the biggest impact\n",
    "valid_adv_ind.sort_values(by=['diff', 'proba'], inplace=True)\n",
    "valid_adv_ind.head(3)"
   ]
  },
  {
   "cell_type": "markdown",
   "id": "65be0814-61a1-4451-b6d5-bd15398860d3",
   "metadata": {},
   "source": [
    "On voit donc qu'en modifiant uniquement deux des variables on peut passer d'un score de plus de 0.5 à 0.45 faisant ainsi passé notre individu de 1 à 0. Voyons maintenant quel est ce changement."
   ]
  },
  {
   "cell_type": "code",
   "execution_count": 151,
   "id": "incident-hamilton",
   "metadata": {},
   "outputs": [],
   "source": [
    "def print_diff(new_comb, old_comb):\n",
    "    '''Print the difference between two entries'''\n",
    "    diff_comb = (new_comb != old_comb)\n",
    "    diff_pd = pd.DataFrame([old_comb[diff_comb], \n",
    "                            new_comb[diff_comb]], index=['old', 'new']).transpose()\n",
    "    \n",
    "    # juste for styling\n",
    "    max_ind = max([len(x) for x in diff_pd.index])\n",
    "    max_old = max([len(x) for x in diff_pd.old])\n",
    "    max_new = max([len(x) for x in diff_pd.new])\n",
    "\n",
    "    for i in new_comb[diff_comb].index :\n",
    "        print('{:<{}} : {:<{}} --> {:<{}}'.format(i, max_ind,\n",
    "                                                  diff_pd.old[i], max_old,\n",
    "                                                  diff_pd.new[i], max_new))"
   ]
  },
  {
   "cell_type": "code",
   "execution_count": 152,
   "id": "alpine-wrapping",
   "metadata": {},
   "outputs": [
    {
     "name": "stdout",
     "output_type": "stream",
     "text": [
      "purpose         : domestic appliances --> car (used)\n",
      "personal_status : divorced            --> single    \n"
     ]
    }
   ],
   "source": [
    "print_diff(valid_adv_ind.iloc[0][var_values], adv_ind[var_values])"
   ]
  },
  {
   "cell_type": "markdown",
   "id": "904b262e-4095-4407-a694-0d7c03e2c63d",
   "metadata": {},
   "source": [
    "Pour passer de plus de 0.5 à 0.45 il suffit à notre individu de falsifier la raison de son prêt en disant que c'est pour une voiture d'occasion et de dire qu'elle n'a jamais été mariée.\n",
    "\n",
    "Maintenant que nous avons fait l'étude de cas sur un individu voyons comment ce raisonnement se généralise à notre population de test.\n",
    "Pour chaque individu qui se voit refuser son crédit on applique la même méthode que pour notre individu 655 et on calcul la probabilité minimal atteignable."
   ]
  },
  {
   "cell_type": "code",
   "execution_count": 153,
   "id": "suffering-europe",
   "metadata": {},
   "outputs": [
    {
     "name": "stdout",
     "output_type": "stream",
     "text": [
      "Default label : 231\n",
      "Change to no-default : 220\n"
     ]
    }
   ],
   "source": [
    "X_default = X.iloc[idx_default]\n",
    "\n",
    "if NEW:\n",
    "    all_adv_inds = []\n",
    "    for idx, adv_ind in tqdm(X_default.iterrows()):\n",
    "        for p in prod:\n",
    "            all_adv_inds += [list(adv_ind[fix_values]) + list(p)  + [idx]]\n",
    "    \n",
    "    columns_name = fix_values + var_values + ['index_old']\n",
    "    all_adv_inds = pd.DataFrame(all_adv_inds, columns=columns_name)\n",
    "    \n",
    "    all_adv_inds['proba'] = logreg.predict_proba(all_adv_inds[X.columns])[:, 1]\n",
    "    \n",
    "    np.savez_compressed('data/privacy/all_adv_inds.npz', \n",
    "                        data=np.array(all_adv_inds),\n",
    "                        columns=all_adv_inds.columns)\n",
    "else:\n",
    "    file = np.load('data/privacy/all_adv_inds.npz', allow_pickle=True)\n",
    "    all_adv_inds = pd.DataFrame(file['data'], columns=file['columns'])\n",
    "\n",
    "\n",
    "# fonction that takes the minimum proba of a group of entries \n",
    "def min_proba(df):\n",
    "    return df.sort_values('proba').head(1).proba\n",
    "\n",
    "proba_min = all_adv_inds.groupby('index_old').apply(lambda df: min_proba(df))\n",
    "X_default = X_default.assign(proba = logreg.predict_proba(X_default)[:, 1],\n",
    "                             proba_min = proba_min.droplevel(1))\n",
    "\n",
    "print('Default label : {}'.format(len(X_default)))\n",
    "print('Change to no-default : {}'.format(len(X_default[X_default.proba_min < 0.5])))"
   ]
  },
  {
   "cell_type": "markdown",
   "id": "a86cb60a-d57b-4227-8e9a-4e332748b3bb",
   "metadata": {},
   "source": [
    "Sur les 231 personnes qui sont labellisés comme incapable de rembourser, l'évasion à permis de changer la labellisation pour 220 d'entre eux. Voyons la distribution du gain de score par l'évasion."
   ]
  },
  {
   "cell_type": "code",
   "execution_count": 154,
   "id": "printable-midnight",
   "metadata": {},
   "outputs": [
    {
     "data": {
      "image/png": "[encoded data removed]",
      "text/plain": [
       "<Figure size 432x288 with 1 Axes>"
      ]
     },
     "metadata": {},
     "output_type": "display_data"
    }
   ],
   "source": [
    "(X_default.proba - X_default.proba_min).plot.hist()\n",
    "plt.show()"
   ]
  },
  {
   "cell_type": "code",
   "execution_count": 156,
   "id": "streaming-dairy",
   "metadata": {},
   "outputs": [
    {
     "data": {
      "text/html": [
       "<div>\n",
       "<style scoped>\n",
       "    .dataframe tbody tr th:only-of-type {\n",
       "        vertical-align: middle;\n",
       "    }\n",
       "\n",
       "    .dataframe tbody tr th {\n",
       "        vertical-align: top;\n",
       "    }\n",
       "\n",
       "    .dataframe thead th {\n",
       "        text-align: right;\n",
       "    }\n",
       "</style>\n",
       "<table border=\"1\" class=\"dataframe\">\n",
       "  <thead>\n",
       "    <tr style=\"text-align: right;\">\n",
       "      <th></th>\n",
       "      <th>account_check_status</th>\n",
       "      <th>duration_in_month</th>\n",
       "      <th>credit_history</th>\n",
       "      <th>purpose</th>\n",
       "      <th>credit_amount</th>\n",
       "      <th>savings</th>\n",
       "      <th>present_emp_since</th>\n",
       "      <th>installment_as_income_perc</th>\n",
       "      <th>sex</th>\n",
       "      <th>personal_status</th>\n",
       "      <th>...</th>\n",
       "      <th>age</th>\n",
       "      <th>other_installment_plans</th>\n",
       "      <th>housing</th>\n",
       "      <th>credits_this_bank</th>\n",
       "      <th>job</th>\n",
       "      <th>people_under_maintenance</th>\n",
       "      <th>telephone</th>\n",
       "      <th>foreign_worker</th>\n",
       "      <th>proba</th>\n",
       "      <th>proba_min</th>\n",
       "    </tr>\n",
       "  </thead>\n",
       "  <tbody>\n",
       "    <tr>\n",
       "      <th>832</th>\n",
       "      <td>&lt; 0 DM</td>\n",
       "      <td>45</td>\n",
       "      <td>no credits taken/ all credits paid back duly</td>\n",
       "      <td>business</td>\n",
       "      <td>11816</td>\n",
       "      <td>... &lt; 100 DM</td>\n",
       "      <td>.. &gt;= 7 years</td>\n",
       "      <td>2</td>\n",
       "      <td>male</td>\n",
       "      <td>single</td>\n",
       "      <td>...</td>\n",
       "      <td>29</td>\n",
       "      <td>none</td>\n",
       "      <td>rent</td>\n",
       "      <td>2</td>\n",
       "      <td>skilled employee / official</td>\n",
       "      <td>1</td>\n",
       "      <td>none</td>\n",
       "      <td>yes</td>\n",
       "      <td>0.874828</td>\n",
       "      <td>0.549941</td>\n",
       "    </tr>\n",
       "    <tr>\n",
       "      <th>334</th>\n",
       "      <td>&lt; 0 DM</td>\n",
       "      <td>24</td>\n",
       "      <td>no credits taken/ all credits paid back duly</td>\n",
       "      <td>radio/television</td>\n",
       "      <td>4110</td>\n",
       "      <td>... &lt; 100 DM</td>\n",
       "      <td>.. &gt;= 7 years</td>\n",
       "      <td>3</td>\n",
       "      <td>male</td>\n",
       "      <td>single</td>\n",
       "      <td>...</td>\n",
       "      <td>23</td>\n",
       "      <td>bank</td>\n",
       "      <td>rent</td>\n",
       "      <td>2</td>\n",
       "      <td>skilled employee / official</td>\n",
       "      <td>2</td>\n",
       "      <td>none</td>\n",
       "      <td>yes</td>\n",
       "      <td>0.866776</td>\n",
       "      <td>0.519487</td>\n",
       "    </tr>\n",
       "    <tr>\n",
       "      <th>728</th>\n",
       "      <td>0 &lt;= ... &lt; 200 DM</td>\n",
       "      <td>48</td>\n",
       "      <td>all credits at this bank paid back duly</td>\n",
       "      <td>business</td>\n",
       "      <td>6416</td>\n",
       "      <td>... &lt; 100 DM</td>\n",
       "      <td>.. &gt;= 7 years</td>\n",
       "      <td>4</td>\n",
       "      <td>female</td>\n",
       "      <td>divorced</td>\n",
       "      <td>...</td>\n",
       "      <td>59</td>\n",
       "      <td>none</td>\n",
       "      <td>rent</td>\n",
       "      <td>1</td>\n",
       "      <td>skilled employee / official</td>\n",
       "      <td>1</td>\n",
       "      <td>none</td>\n",
       "      <td>yes</td>\n",
       "      <td>0.925651</td>\n",
       "      <td>0.524549</td>\n",
       "    </tr>\n",
       "  </tbody>\n",
       "</table>\n",
       "<p>3 rows × 23 columns</p>\n",
       "</div>"
      ],
      "text/plain": [
       "    account_check_status  duration_in_month  \\\n",
       "832               < 0 DM                 45   \n",
       "334               < 0 DM                 24   \n",
       "728    0 <= ... < 200 DM                 48   \n",
       "\n",
       "                                   credit_history           purpose  \\\n",
       "832  no credits taken/ all credits paid back duly          business   \n",
       "334  no credits taken/ all credits paid back duly  radio/television   \n",
       "728       all credits at this bank paid back duly          business   \n",
       "\n",
       "     credit_amount       savings present_emp_since  \\\n",
       "832          11816  ... < 100 DM     .. >= 7 years   \n",
       "334           4110  ... < 100 DM     .. >= 7 years   \n",
       "728           6416  ... < 100 DM     .. >= 7 years   \n",
       "\n",
       "     installment_as_income_perc     sex personal_status  ... age  \\\n",
       "832                           2    male          single  ...  29   \n",
       "334                           3    male          single  ...  23   \n",
       "728                           4  female        divorced  ...  59   \n",
       "\n",
       "     other_installment_plans housing  credits_this_bank  \\\n",
       "832                     none    rent                  2   \n",
       "334                     bank    rent                  2   \n",
       "728                     none    rent                  1   \n",
       "\n",
       "                             job people_under_maintenance  telephone  \\\n",
       "832  skilled employee / official                        1       none   \n",
       "334  skilled employee / official                        2       none   \n",
       "728  skilled employee / official                        1       none   \n",
       "\n",
       "    foreign_worker     proba proba_min  \n",
       "832            yes  0.874828  0.549941  \n",
       "334            yes  0.866776  0.519487  \n",
       "728            yes  0.925651  0.524549  \n",
       "\n",
       "[3 rows x 23 columns]"
      ]
     },
     "execution_count": 156,
     "metadata": {},
     "output_type": "execute_result"
    }
   ],
   "source": [
    "X_default[X_default.proba_min >= 0.5].sample(3)"
   ]
  },
  {
   "cell_type": "markdown",
   "id": "welsh-vietnamese",
   "metadata": {},
   "source": [
    "### Poisoning\n",
    "\n",
    "On remarque qu'il y a certaine personne pour qui la modification de variables difficilement vérifiables n'est pas suffisant. \n",
    "On passe donc à la deuxième attaque *poisoning*. On a vu précédemment que l'individu *232* fait partie des personnes ne pouvant pas utiliser la triche pour pouvoir être accepté.\n",
    "\n",
    "On va rajouter sa ligne dans la base de donnée d'entrainement et voir si cela a un impact."
   ]
  },
  {
   "cell_type": "code",
   "execution_count": 16,
   "id": "duplicate-occasion",
   "metadata": {},
   "outputs": [],
   "source": [
    "y = credit['default']\n",
    "X = credit.drop(columns=\"default\")\n",
    "\n",
    "ind = X.iloc[[95]]"
   ]
  },
  {
   "cell_type": "code",
   "execution_count": 17,
   "id": "final-deposit",
   "metadata": {},
   "outputs": [
    {
     "data": {
      "text/html": [
       "<div>\n",
       "<style scoped>\n",
       "    .dataframe tbody tr th:only-of-type {\n",
       "        vertical-align: middle;\n",
       "    }\n",
       "\n",
       "    .dataframe tbody tr th {\n",
       "        vertical-align: top;\n",
       "    }\n",
       "\n",
       "    .dataframe thead th {\n",
       "        text-align: right;\n",
       "    }\n",
       "</style>\n",
       "<table border=\"1\" class=\"dataframe\">\n",
       "  <thead>\n",
       "    <tr style=\"text-align: right;\">\n",
       "      <th></th>\n",
       "      <th>account_check_status</th>\n",
       "      <th>duration_in_month</th>\n",
       "      <th>credit_history</th>\n",
       "      <th>purpose</th>\n",
       "      <th>credit_amount</th>\n",
       "      <th>savings</th>\n",
       "      <th>present_emp_since</th>\n",
       "      <th>installment_as_income_perc</th>\n",
       "      <th>sex</th>\n",
       "      <th>personal_status</th>\n",
       "      <th>...</th>\n",
       "      <th>present_res_since</th>\n",
       "      <th>property</th>\n",
       "      <th>age</th>\n",
       "      <th>other_installment_plans</th>\n",
       "      <th>housing</th>\n",
       "      <th>credits_this_bank</th>\n",
       "      <th>job</th>\n",
       "      <th>people_under_maintenance</th>\n",
       "      <th>telephone</th>\n",
       "      <th>foreign_worker</th>\n",
       "    </tr>\n",
       "  </thead>\n",
       "  <tbody>\n",
       "    <tr>\n",
       "      <th>95</th>\n",
       "      <td>0 &lt;= ... &lt; 200 DM</td>\n",
       "      <td>54</td>\n",
       "      <td>no credits taken/ all credits paid back duly</td>\n",
       "      <td>business</td>\n",
       "      <td>15945</td>\n",
       "      <td>... &lt; 100 DM</td>\n",
       "      <td>... &lt; 1 year</td>\n",
       "      <td>3</td>\n",
       "      <td>male</td>\n",
       "      <td>single</td>\n",
       "      <td>...</td>\n",
       "      <td>4</td>\n",
       "      <td>unknown / no property</td>\n",
       "      <td>58</td>\n",
       "      <td>none</td>\n",
       "      <td>rent</td>\n",
       "      <td>1</td>\n",
       "      <td>skilled employee / official</td>\n",
       "      <td>1</td>\n",
       "      <td>yes, registered under the customers name</td>\n",
       "      <td>yes</td>\n",
       "    </tr>\n",
       "  </tbody>\n",
       "</table>\n",
       "<p>1 rows × 21 columns</p>\n",
       "</div>"
      ],
      "text/plain": [
       "   account_check_status  duration_in_month  \\\n",
       "95    0 <= ... < 200 DM                 54   \n",
       "\n",
       "                                  credit_history   purpose  credit_amount  \\\n",
       "95  no credits taken/ all credits paid back duly  business          15945   \n",
       "\n",
       "         savings present_emp_since  installment_as_income_perc   sex  \\\n",
       "95  ... < 100 DM      ... < 1 year                           3  male   \n",
       "\n",
       "   personal_status  ... present_res_since               property age  \\\n",
       "95          single  ...                 4  unknown / no property  58   \n",
       "\n",
       "    other_installment_plans housing credits_this_bank  \\\n",
       "95                     none    rent                 1   \n",
       "\n",
       "                            job people_under_maintenance  \\\n",
       "95  skilled employee / official                        1   \n",
       "\n",
       "                                   telephone foreign_worker  \n",
       "95  yes, registered under the customers name            yes  \n",
       "\n",
       "[1 rows x 21 columns]"
      ]
     },
     "execution_count": 17,
     "metadata": {},
     "output_type": "execute_result"
    }
   ],
   "source": [
    "ind"
   ]
  },
  {
   "cell_type": "code",
   "execution_count": 18,
   "id": "square-celebrity",
   "metadata": {},
   "outputs": [],
   "source": [
    "n = 9\n",
    "X_train_pois = X_train.append([ind]*n, ignore_index=True)\n",
    "y_train_pois = pd.Series(list(y_train) + [0]*n)"
   ]
  },
  {
   "cell_type": "code",
   "execution_count": 19,
   "id": "chicken-yield",
   "metadata": {},
   "outputs": [
    {
     "data": {
      "image/png": "[encoded data removed]",
      "text/plain": [
       "<Figure size 432x288 with 2 Axes>"
      ]
     },
     "metadata": {},
     "output_type": "display_data"
    },
    {
     "name": "stdout",
     "output_type": "stream",
     "text": [
      "Sensitivity  Specificity   Precision     Accuracy  \n",
      "    0.86         0.50         0.61         0.76    \n"
     ]
    }
   ],
   "source": [
    "mesure_clas(logreg, X_test, y_test)"
   ]
  },
  {
   "cell_type": "code",
   "execution_count": 20,
   "id": "incoming-factor",
   "metadata": {},
   "outputs": [
    {
     "data": {
      "text/plain": [
       "0.9303033801912368"
      ]
     },
     "execution_count": 20,
     "metadata": {},
     "output_type": "execute_result"
    }
   ],
   "source": [
    "logreg.predict_proba(ind)[0,1]"
   ]
  },
  {
   "cell_type": "code",
   "execution_count": 21,
   "id": "metric-threshold",
   "metadata": {},
   "outputs": [
    {
     "data": {
      "image/png": "[encoded data removed]",
      "text/plain": [
       "<Figure size 432x288 with 2 Axes>"
      ]
     },
     "metadata": {},
     "output_type": "display_data"
    },
    {
     "name": "stdout",
     "output_type": "stream",
     "text": [
      "Sensitivity  Specificity   Precision     Accuracy  \n",
      "    0.86         0.43         0.58         0.73    \n"
     ]
    }
   ],
   "source": [
    "logreg_pois = model.fit(X_train_pois, y_train_pois)\n",
    "\n",
    "mesure_clas(logreg_pois, X_test, y_test)"
   ]
  },
  {
   "cell_type": "code",
   "execution_count": 22,
   "id": "theoretical-pacific",
   "metadata": {},
   "outputs": [
    {
     "data": {
      "text/plain": [
       "0.47122487407898306"
      ]
     },
     "execution_count": 22,
     "metadata": {},
     "output_type": "execute_result"
    }
   ],
   "source": [
    "logreg_pois.predict_proba(ind)[0,1]"
   ]
  },
  {
   "cell_type": "markdown",
   "id": "illegal-narrative",
   "metadata": {},
   "source": [
    "On automatise la recherche du nombre minimum de copie pour passer."
   ]
  },
  {
   "cell_type": "code",
   "execution_count": 23,
   "id": "light-message",
   "metadata": {},
   "outputs": [],
   "source": [
    "def min_pois(ind):\n",
    "    n = 0\n",
    "    X_train_pois = X_train\n",
    "    y_train_pois = y_train\n",
    "    \n",
    "    while model.fit(X_train_pois, y_train_pois).predict_proba(ind)[0,1] > 0.5:\n",
    "        n += 1\n",
    "        X_train_pois = X_train_pois.append([ind], ignore_index=True)\n",
    "        y_train_pois = pd.Series(list(y_train_pois) + [0])\n",
    "        \n",
    "    return n"
   ]
  },
  {
   "cell_type": "code",
   "execution_count": 24,
   "id": "historic-grenada",
   "metadata": {},
   "outputs": [
    {
     "data": {
      "text/plain": [
       "9"
      ]
     },
     "execution_count": 24,
     "metadata": {},
     "output_type": "execute_result"
    }
   ],
   "source": [
    "min_pois(ind)"
   ]
  },
  {
   "cell_type": "markdown",
   "id": "sticky-plant",
   "metadata": {},
   "source": [
    "On regarde la distribution pour les personnes qui ont besoin du poisoning"
   ]
  },
  {
   "cell_type": "code",
   "execution_count": 25,
   "id": "promotional-eleven",
   "metadata": {},
   "outputs": [],
   "source": [
    "list_min = X_false[X_false.proba_min > 0.5].drop(columns=['proba', 'proba_min']).apply(lambda x: min_pois(x.to_frame().transpose()), axis=1)"
   ]
  },
  {
   "cell_type": "code",
   "execution_count": 26,
   "id": "beginning-western",
   "metadata": {},
   "outputs": [
    {
     "data": {
      "image/png": "[encoded data removed]",
      "text/plain": [
       "<Figure size 432x288 with 1 Axes>"
      ]
     },
     "metadata": {},
     "output_type": "display_data"
    }
   ],
   "source": [
    "list_min.plot.hist()\n",
    "plt.show()"
   ]
  },
  {
   "cell_type": "markdown",
   "id": "standard-southeast",
   "metadata": {},
   "source": [
    "On peut coupler les deux premières attaques pour avoir encore moins de copie à rajouter."
   ]
  },
  {
   "cell_type": "code",
   "execution_count": 27,
   "id": "cathedral-guyana",
   "metadata": {},
   "outputs": [],
   "source": [
    "ind_best_comb = all_X[all_X['index_old'] == ind.index[0]].sort_values(by='proba').head(1)  \\\n",
    "                                            .drop(['index_old', 'proba'], axis=1)"
   ]
  },
  {
   "cell_type": "code",
   "execution_count": 28,
   "id": "worse-afternoon",
   "metadata": {},
   "outputs": [
    {
     "name": "stdout",
     "output_type": "stream",
     "text": [
      "purpose           : business                    --> car (used)                                                   \n",
      "present_emp_since : ... < 1 year                --> 4 <= ... < 7 years                                           \n",
      "job               : skilled employee / official --> management/ self-employed/ highly qualified employee/ officer\n"
     ]
    }
   ],
   "source": [
    "print_diff(ind_best_comb.iloc[0], ind.iloc[0])"
   ]
  },
  {
   "cell_type": "code",
   "execution_count": 29,
   "id": "adaptive-johnston",
   "metadata": {},
   "outputs": [],
   "source": [
    "n = 2\n",
    "X_train_pois_best = X_train.append([ind_best_comb]*n, ignore_index=True)\n",
    "y_train_pois_best = pd.Series(list(y_train) + [0]*n)"
   ]
  },
  {
   "cell_type": "code",
   "execution_count": 30,
   "id": "responsible-tunnel",
   "metadata": {},
   "outputs": [
    {
     "data": {
      "image/png": "[encoded data removed]",
      "text/plain": [
       "<Figure size 432x288 with 2 Axes>"
      ]
     },
     "metadata": {},
     "output_type": "display_data"
    },
    {
     "name": "stdout",
     "output_type": "stream",
     "text": [
      "Sensitivity  Specificity   Precision     Accuracy  \n",
      "    0.86         0.47         0.58         0.74    \n"
     ]
    }
   ],
   "source": [
    "logreg_pois_best = model.fit(X_train_pois_best, y_train_pois_best)\n",
    "\n",
    "mesure_clas(logreg_pois_best, X_test, y_test)"
   ]
  },
  {
   "cell_type": "code",
   "execution_count": 31,
   "id": "instrumental-convergence",
   "metadata": {},
   "outputs": [
    {
     "data": {
      "text/plain": [
       "0.4932345933281425"
      ]
     },
     "execution_count": 31,
     "metadata": {},
     "output_type": "execute_result"
    }
   ],
   "source": [
    "logreg_pois_best.predict_proba(ind_best_comb)[0,1]"
   ]
  },
  {
   "cell_type": "markdown",
   "id": "twelve-touch",
   "metadata": {},
   "source": [
    "On automatise"
   ]
  },
  {
   "cell_type": "code",
   "execution_count": 32,
   "id": "fossil-aerospace",
   "metadata": {},
   "outputs": [],
   "source": [
    "def min_pois_best_comb(ind, print_chan=True):\n",
    "    ind_best_comb = all_X[all_X['index_old'] == ind.index[0]].sort_values(by='proba').head(1)  \\\n",
    "                                            .drop(['index_old', 'proba'], axis=1)\n",
    "\n",
    "    print_diff(ind_best_comb.iloc[0], ind.iloc[0]) if print_chan else ...\n",
    "    \n",
    "    n = 0\n",
    "    X_train_pois = X_train\n",
    "    y_train_pois = y_train\n",
    "    \n",
    "    while model.fit(X_train_pois, y_train_pois).predict_proba(ind_best_comb)[0,1] > 0.5:\n",
    "        n += 1\n",
    "        X_train_pois = X_train_pois.append([ind_best_comb], ignore_index=True)\n",
    "        y_train_pois = pd.Series(list(y_train_pois) + [0])\n",
    "        \n",
    "    return n"
   ]
  },
  {
   "cell_type": "code",
   "execution_count": 33,
   "id": "vertical-consultation",
   "metadata": {},
   "outputs": [
    {
     "name": "stdout",
     "output_type": "stream",
     "text": [
      "purpose           : business                    --> car (used)                                                   \n",
      "present_emp_since : ... < 1 year                --> 4 <= ... < 7 years                                           \n",
      "job               : skilled employee / official --> management/ self-employed/ highly qualified employee/ officer\n"
     ]
    },
    {
     "data": {
      "text/plain": [
       "2"
      ]
     },
     "execution_count": 33,
     "metadata": {},
     "output_type": "execute_result"
    }
   ],
   "source": [
    "min_pois_best_comb(ind)"
   ]
  },
  {
   "cell_type": "code",
   "execution_count": 34,
   "id": "metric-jones",
   "metadata": {},
   "outputs": [],
   "source": [
    "%%capture\n",
    "list_min_best_comb = X_false[X_false.proba_min > 0.5].apply(lambda x: \n",
    "                                                            min_pois_best_comb(x.to_frame().transpose(), False), axis=1)"
   ]
  },
  {
   "cell_type": "code",
   "execution_count": 35,
   "id": "consolidated-cross",
   "metadata": {},
   "outputs": [
    {
     "data": {
      "image/png": "[encoded data removed]",
      "text/plain": [
       "<Figure size 432x288 with 1 Axes>"
      ]
     },
     "metadata": {},
     "output_type": "display_data"
    }
   ],
   "source": [
    "list_min_best_comb.plot.hist()\n",
    "plt.show()"
   ]
  },
  {
   "cell_type": "markdown",
   "id": "healthy-score",
   "metadata": {},
   "source": [
    "# Mitiger les dégâts\n",
    "\n",
    "## Présentation des différentes solutions \n",
    "\n",
    "### Contrer l'*evasion*"
   ]
  },
  {
   "cell_type": "markdown",
   "id": "hollow-protocol",
   "metadata": {},
   "source": [
    "### Contrer le *poisinig*"
   ]
  },
  {
   "cell_type": "markdown",
   "id": "humanitarian-appendix",
   "metadata": {},
   "source": [
    "## Implémentation des méthodes et étude de cas"
   ]
  },
  {
   "cell_type": "markdown",
   "id": "first-accommodation",
   "metadata": {},
   "source": [
    "# Critique de la partie 2 et recommendations\n",
    "\n",
    "## Comprendre les limites d'un modèle statistique"
   ]
  },
  {
   "cell_type": "markdown",
   "id": "fatty-recording",
   "metadata": {},
   "source": [
    "## Ouverture : différentes pistes de la *robustness*"
   ]
  }
 ],
 "metadata": {
  "kernelspec": {
   "display_name": "Python 3",
   "language": "python",
   "name": "python3"
  },
  "language_info": {
   "codemirror_mode": {
    "name": "ipython",
    "version": 3
   },
   "file_extension": ".py",
   "mimetype": "text/x-python",
   "name": "python",
   "nbconvert_exporter": "python",
   "pygments_lexer": "ipython3",
   "version": "3.9.6"
  }
 },
 "nbformat": 4,
 "nbformat_minor": 5
}
