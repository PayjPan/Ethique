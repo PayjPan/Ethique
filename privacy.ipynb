{
 "cells": [
  {
   "cell_type": "raw",
   "metadata": {
    "lines_to_next_cell": 0
   },
   "source": [
    "---\n",
    "title: \"Privacy\"\n",
    "site: distill::distill_website\n",
    "---"
   ]
  },
  {
   "cell_type": "code",
   "execution_count": 1,
   "metadata": {
    "lines_to_next_cell": 0
   },
   "outputs": [
    {
     "name": "stderr",
     "output_type": "stream",
     "text": [
      "UsageError: Cell magic `%%R` not found.\n"
     ]
    }
   ],
   "source": [
    "%%R\n",
    "library(reticulate)\n",
    "use_condaenv('ethique_env')"
   ]
  },
  {
   "cell_type": "markdown",
   "metadata": {},
   "source": [
    "# Privacy et Robusness\n",
    "\n",
    "Dans ce notebook je vais présenter les différentes attaques présentées dans la trousse à outils d'IMB *Adversarial Robusteness 360* :\n",
    "\n",
    " - Evasion\n",
    " - Poisoning\n",
    " - Inference and Inversion\n",
    " - Model Extraction\n",
    " \n",
    "Pour illustrer ces différentes attaques nous allons utilisé la base de données : \n",
    "\n",
    " - German Credit (lien)\n",
    " \n",
    "Le modèle que nous allons attaquer est une régression logisitique en utilisant la librairie *scikit learn* "
   ]
  },
  {
   "cell_type": "code",
   "execution_count": 1,
   "metadata": {},
   "outputs": [],
   "source": [
    "import matplotlib.pyplot as plt\n",
    "import pandas as pd\n",
    "import numpy as np\n",
    "\n",
    "from tqdm.notebook import tqdm\n",
    "from itertools import product, combinations\n",
    "from copy import deepcopy\n",
    "\n",
    "from sklearn import model_selection\n",
    "from sklearn.preprocessing import StandardScaler\n",
    "from sklearn.preprocessing import OneHotEncoder, FunctionTransformer\n",
    "from sklearn.linear_model import LogisticRegression, LinearRegression\n",
    "from sklearn.metrics import accuracy_score, confusion_matrix, plot_confusion_matrix\n",
    "from sklearn.compose import ColumnTransformer\n",
    "from sklearn.pipeline import Pipeline\n",
    "from sklearn.ensemble import RandomForestClassifier\n",
    "\n",
    "import seaborn as sns\n",
    "sns.set_theme(style='darkgrid')"
   ]
  },
  {
   "cell_type": "code",
   "execution_count": 2,
   "metadata": {},
   "outputs": [],
   "source": [
    "seed = 2021"
   ]
  },
  {
   "cell_type": "markdown",
   "metadata": {},
   "source": [
    "## Prépration des données et création du modèle cible"
   ]
  },
  {
   "cell_type": "code",
   "execution_count": 3,
   "metadata": {},
   "outputs": [],
   "source": [
    "credit = pd.read_csv(\"data/german_credit_prepared.csv\", sep=\",\", engine=\"python\")\n",
    "\n",
    "y = credit['default']\n",
    "X = credit.drop(columns=\"default\")\n",
    "\n",
    "# Définie quelles colones sont categorielles et quelles sont continue\n",
    "variables_cat = [col for col in X.columns if credit[col].dtype==object]\n",
    "variables_ord = [col for col in X.columns if credit[col].dtype==int]\n",
    "\n",
    "preprocess = ColumnTransformer(\n",
    "    transformers=[\n",
    "        ('cat', OneHotEncoder(drop='first'), variables_cat),\n",
    "        ('ord', StandardScaler(), variables_ord)\n",
    "    ])\n",
    "\n",
    "model = Pipeline(\n",
    "        [\n",
    "            ('preprocession', preprocess),\n",
    "            ('logreg', LogisticRegression())\n",
    "        ]\n",
    ")"
   ]
  },
  {
   "cell_type": "code",
   "execution_count": 4,
   "metadata": {},
   "outputs": [],
   "source": [
    "X_train, X_test, y_train, y_test = model_selection.train_test_split(X, y, test_size=0.20, random_state=seed)\n",
    "\n",
    "logreg = model.fit(X_train, y_train)"
   ]
  },
  {
   "cell_type": "code",
   "execution_count": 6,
   "metadata": {},
   "outputs": [],
   "source": [
    "def mesure_reg(reg, X_test, y_test):\n",
    "    y_test_pred = reg.predict(X_test)\n",
    "    cm = confusion_matrix(y_test, y_test_pred)\n",
    "    total=sum(sum(cm))\n",
    "    sensitivity_recall = cm[0,0]/(cm[0,0]+cm[1,0])\n",
    "    print('Sensitivity_recall : ',sensitivity_recall )\n",
    "    Specificity = cm[1,1]/(cm[1,1]+cm[0,1])\n",
    "    print('Specificity: ', Specificity)\n",
    "    precision = cm[0,0]/(cm[0,0]+cm[0,1])\n",
    "    print('Precision: ', precision)\n",
    "    accuracy =(cm[0,0]+cm[1,1])/(cm[0,0]+cm[0,1]+cm[1,0]+cm[1,1])\n",
    "    print('Accuracy: ', accuracy)\n",
    "    \n",
    "    title = 'Matrice de confusion de la régression logistique'\n",
    "    disp = plot_confusion_matrix(reg,\n",
    "                                 X_test,\n",
    "                                 y_test,\n",
    "                                 cmap=plt.cm.Blues)\n",
    "    disp.ax_.set_title(title)\n",
    "    plt.show()"
   ]
  },
  {
   "cell_type": "code",
   "execution_count": 7,
   "metadata": {},
   "outputs": [
    {
     "name": "stdout",
     "output_type": "stream",
     "text": [
      "Sensitivity_recall :  0.8013245033112583\n",
      "Specificity:  0.6122448979591837\n",
      "Precision:  0.8642857142857143\n",
      "Accuracy:  0.755\n"
     ]
    },
    {
     "data": {
      "image/png": "[encoded data removed]",
      "text/plain": [
       "<Figure size 432x288 with 2 Axes>"
      ]
     },
     "metadata": {},
     "output_type": "display_data"
    }
   ],
   "source": [
    "mesure_reg(logreg, X_test, y_test)"
   ]
  },
  {
   "cell_type": "markdown",
   "metadata": {},
   "source": [
    "# Evasion\n",
    "\n",
    "On va chercher les variables non vérifiables et les modifiées jusqu'à ce que l'individu refusé soit accepté.\n",
    "\n",
    "[Source](https://archive.ics.uci.edu/ml/datasets/statlog+(german+credit+data))\n",
    "\n",
    "On voit qu'il n'y a que très peu de variables que l'on peut modifier et qui ne soit pas vérifiable. C'est une base de données pour crédit ce qui explique cela.\n",
    "On voit qu'il y a :\n",
    " - purpose : correspond à la finalité du prêt\n",
    " - personal_status : la condition de vie en couple\n",
    "\n",
    "On a également des variables difficilements vérifiables :\n",
    " - present_emp_since : depuis quand la personne travail à son poste\n",
    " - job : le type de travaille de la personne\n",
    " - people_under_maintenance : le nombre de personne à charge\n",
    " \n",
    "On choisit ensuite une personne aléatoirement parmis les personnes refusées :"
   ]
  },
  {
   "cell_type": "code",
   "execution_count": 8,
   "metadata": {},
   "outputs": [
    {
     "data": {
      "text/plain": [
       "account_check_status                                          0 <= ... < 200 DM\n",
       "duration_in_month                                                            30\n",
       "credit_history                                  delay in paying off in the past\n",
       "purpose                                                     domestic appliances\n",
       "credit_amount                                                              1919\n",
       "savings                                                     100 <= ... < 500 DM\n",
       "present_emp_since                                                  ... < 1 year\n",
       "installment_as_income_perc                                                    4\n",
       "sex                                                                        male\n",
       "personal _status                                                         single\n",
       "other_debtors                                                              none\n",
       "present_res_since                                                             3\n",
       "property                                                  unknown / no property\n",
       "age                                                                          30\n",
       "other_installment_plans                                                  stores\n",
       "housing                                                                     own\n",
       "credits_this_bank                                                             2\n",
       "job                           management/ self-employed/ highly qualified em...\n",
       "people_under_maintenance                                                      1\n",
       "telephone                                                                  none\n",
       "foreign_worker                                                              yes\n",
       "Name: 935, dtype: object"
      ]
     },
     "execution_count": 8,
     "metadata": {},
     "output_type": "execute_result"
    }
   ],
   "source": [
    "#np.random.seed(seed)\n",
    "idx_ref = np.where(logreg.predict_proba(X)[:, 1] > 0.5)[0]\n",
    "idx = np.random.choice(idx_ref)\n",
    "\n",
    "#idx = 153 # --> juste besoin de changer le but du prêt : 'education', '(vacation - does not exist?)', 'car (new)'\n",
    "#idx = 232 #--> pas possible de le faire passer\n",
    "X.iloc[idx]"
   ]
  },
  {
   "cell_type": "code",
   "execution_count": 9,
   "metadata": {},
   "outputs": [
    {
     "data": {
      "text/plain": [
       "array([0.54254801])"
      ]
     },
     "execution_count": 9,
     "metadata": {},
     "output_type": "execute_result"
    }
   ],
   "source": [
    "logreg.predict_proba(X.iloc[idx].to_frame().transpose())[:, 1]"
   ]
  },
  {
   "cell_type": "code",
   "execution_count": 10,
   "metadata": {},
   "outputs": [],
   "source": [
    "var_values = ['purpose', 'personal _status', 'present_emp_since', 'job', 'people_under_maintenance']\n",
    "fix_values = [x for x in X.columns if x not in var_values]\n",
    "\n",
    "all_values = [X[col].unique() for col in var_values]\n",
    "prod = list(product(*all_values))   #produit cartésien\n",
    "\n",
    "all_X = pd.DataFrame([X.iloc[idx][fix_values].tolist() + list(p) for p in prod],\n",
    "                      columns=fix_values + var_values)\n",
    "all_X = all_X[X.columns]\n",
    "all_X['proba'] = logreg.predict_proba(all_X)[:, 1]"
   ]
  },
  {
   "cell_type": "code",
   "execution_count": 11,
   "metadata": {},
   "outputs": [
    {
     "data": {
      "text/html": [
       "<div>\n",
       "<style scoped>\n",
       "    .dataframe tbody tr th:only-of-type {\n",
       "        vertical-align: middle;\n",
       "    }\n",
       "\n",
       "    .dataframe tbody tr th {\n",
       "        vertical-align: top;\n",
       "    }\n",
       "\n",
       "    .dataframe thead th {\n",
       "        text-align: right;\n",
       "    }\n",
       "</style>\n",
       "<table border=\"1\" class=\"dataframe\">\n",
       "  <thead>\n",
       "    <tr style=\"text-align: right;\">\n",
       "      <th></th>\n",
       "      <th>account_check_status</th>\n",
       "      <th>duration_in_month</th>\n",
       "      <th>credit_history</th>\n",
       "      <th>purpose</th>\n",
       "      <th>credit_amount</th>\n",
       "      <th>savings</th>\n",
       "      <th>present_emp_since</th>\n",
       "      <th>installment_as_income_perc</th>\n",
       "      <th>sex</th>\n",
       "      <th>personal _status</th>\n",
       "      <th>...</th>\n",
       "      <th>age</th>\n",
       "      <th>other_installment_plans</th>\n",
       "      <th>housing</th>\n",
       "      <th>credits_this_bank</th>\n",
       "      <th>job</th>\n",
       "      <th>people_under_maintenance</th>\n",
       "      <th>telephone</th>\n",
       "      <th>foreign_worker</th>\n",
       "      <th>proba</th>\n",
       "      <th>diff</th>\n",
       "    </tr>\n",
       "  </thead>\n",
       "  <tbody>\n",
       "    <tr>\n",
       "      <th>516</th>\n",
       "      <td>0 &lt;= ... &lt; 200 DM</td>\n",
       "      <td>30</td>\n",
       "      <td>delay in paying off in the past</td>\n",
       "      <td>car (used)</td>\n",
       "      <td>1919</td>\n",
       "      <td>100 &lt;= ... &lt; 500 DM</td>\n",
       "      <td>... &lt; 1 year</td>\n",
       "      <td>4</td>\n",
       "      <td>male</td>\n",
       "      <td>single</td>\n",
       "      <td>...</td>\n",
       "      <td>30</td>\n",
       "      <td>stores</td>\n",
       "      <td>own</td>\n",
       "      <td>2</td>\n",
       "      <td>management/ self-employed/ highly qualified em...</td>\n",
       "      <td>1</td>\n",
       "      <td>none</td>\n",
       "      <td>yes</td>\n",
       "      <td>0.331766</td>\n",
       "      <td>1</td>\n",
       "    </tr>\n",
       "    <tr>\n",
       "      <th>20</th>\n",
       "      <td>0 &lt;= ... &lt; 200 DM</td>\n",
       "      <td>30</td>\n",
       "      <td>delay in paying off in the past</td>\n",
       "      <td>domestic appliances</td>\n",
       "      <td>1919</td>\n",
       "      <td>100 &lt;= ... &lt; 500 DM</td>\n",
       "      <td>4 &lt;= ... &lt; 7 years</td>\n",
       "      <td>4</td>\n",
       "      <td>male</td>\n",
       "      <td>single</td>\n",
       "      <td>...</td>\n",
       "      <td>30</td>\n",
       "      <td>stores</td>\n",
       "      <td>own</td>\n",
       "      <td>2</td>\n",
       "      <td>management/ self-employed/ highly qualified em...</td>\n",
       "      <td>1</td>\n",
       "      <td>none</td>\n",
       "      <td>yes</td>\n",
       "      <td>0.398326</td>\n",
       "      <td>1</td>\n",
       "    </tr>\n",
       "    <tr>\n",
       "      <th>28</th>\n",
       "      <td>0 &lt;= ... &lt; 200 DM</td>\n",
       "      <td>30</td>\n",
       "      <td>delay in paying off in the past</td>\n",
       "      <td>domestic appliances</td>\n",
       "      <td>1919</td>\n",
       "      <td>100 &lt;= ... &lt; 500 DM</td>\n",
       "      <td>unemployed</td>\n",
       "      <td>4</td>\n",
       "      <td>male</td>\n",
       "      <td>single</td>\n",
       "      <td>...</td>\n",
       "      <td>30</td>\n",
       "      <td>stores</td>\n",
       "      <td>own</td>\n",
       "      <td>2</td>\n",
       "      <td>management/ self-employed/ highly qualified em...</td>\n",
       "      <td>1</td>\n",
       "      <td>none</td>\n",
       "      <td>yes</td>\n",
       "      <td>0.461455</td>\n",
       "      <td>1</td>\n",
       "    </tr>\n",
       "    <tr>\n",
       "      <th>500</th>\n",
       "      <td>0 &lt;= ... &lt; 200 DM</td>\n",
       "      <td>30</td>\n",
       "      <td>delay in paying off in the past</td>\n",
       "      <td>car (used)</td>\n",
       "      <td>1919</td>\n",
       "      <td>100 &lt;= ... &lt; 500 DM</td>\n",
       "      <td>4 &lt;= ... &lt; 7 years</td>\n",
       "      <td>4</td>\n",
       "      <td>male</td>\n",
       "      <td>single</td>\n",
       "      <td>...</td>\n",
       "      <td>30</td>\n",
       "      <td>stores</td>\n",
       "      <td>own</td>\n",
       "      <td>2</td>\n",
       "      <td>management/ self-employed/ highly qualified em...</td>\n",
       "      <td>1</td>\n",
       "      <td>none</td>\n",
       "      <td>yes</td>\n",
       "      <td>0.216996</td>\n",
       "      <td>2</td>\n",
       "    </tr>\n",
       "    <tr>\n",
       "      <th>508</th>\n",
       "      <td>0 &lt;= ... &lt; 200 DM</td>\n",
       "      <td>30</td>\n",
       "      <td>delay in paying off in the past</td>\n",
       "      <td>car (used)</td>\n",
       "      <td>1919</td>\n",
       "      <td>100 &lt;= ... &lt; 500 DM</td>\n",
       "      <td>unemployed</td>\n",
       "      <td>4</td>\n",
       "      <td>male</td>\n",
       "      <td>single</td>\n",
       "      <td>...</td>\n",
       "      <td>30</td>\n",
       "      <td>stores</td>\n",
       "      <td>own</td>\n",
       "      <td>2</td>\n",
       "      <td>management/ self-employed/ highly qualified em...</td>\n",
       "      <td>1</td>\n",
       "      <td>none</td>\n",
       "      <td>yes</td>\n",
       "      <td>0.263996</td>\n",
       "      <td>2</td>\n",
       "    </tr>\n",
       "  </tbody>\n",
       "</table>\n",
       "<p>5 rows × 23 columns</p>\n",
       "</div>"
      ],
      "text/plain": [
       "    account_check_status  duration_in_month                   credit_history  \\\n",
       "516    0 <= ... < 200 DM                 30  delay in paying off in the past   \n",
       "20     0 <= ... < 200 DM                 30  delay in paying off in the past   \n",
       "28     0 <= ... < 200 DM                 30  delay in paying off in the past   \n",
       "500    0 <= ... < 200 DM                 30  delay in paying off in the past   \n",
       "508    0 <= ... < 200 DM                 30  delay in paying off in the past   \n",
       "\n",
       "                 purpose  credit_amount              savings  \\\n",
       "516           car (used)           1919  100 <= ... < 500 DM   \n",
       "20   domestic appliances           1919  100 <= ... < 500 DM   \n",
       "28   domestic appliances           1919  100 <= ... < 500 DM   \n",
       "500           car (used)           1919  100 <= ... < 500 DM   \n",
       "508           car (used)           1919  100 <= ... < 500 DM   \n",
       "\n",
       "      present_emp_since  installment_as_income_perc   sex personal _status  \\\n",
       "516        ... < 1 year                           4  male           single   \n",
       "20   4 <= ... < 7 years                           4  male           single   \n",
       "28           unemployed                           4  male           single   \n",
       "500  4 <= ... < 7 years                           4  male           single   \n",
       "508          unemployed                           4  male           single   \n",
       "\n",
       "     ... age  other_installment_plans housing  credits_this_bank  \\\n",
       "516  ...  30                   stores     own                  2   \n",
       "20   ...  30                   stores     own                  2   \n",
       "28   ...  30                   stores     own                  2   \n",
       "500  ...  30                   stores     own                  2   \n",
       "508  ...  30                   stores     own                  2   \n",
       "\n",
       "                                                   job  \\\n",
       "516  management/ self-employed/ highly qualified em...   \n",
       "20   management/ self-employed/ highly qualified em...   \n",
       "28   management/ self-employed/ highly qualified em...   \n",
       "500  management/ self-employed/ highly qualified em...   \n",
       "508  management/ self-employed/ highly qualified em...   \n",
       "\n",
       "    people_under_maintenance  telephone foreign_worker     proba diff  \n",
       "516                        1       none            yes  0.331766    1  \n",
       "20                         1       none            yes  0.398326    1  \n",
       "28                         1       none            yes  0.461455    1  \n",
       "500                        1       none            yes  0.216996    2  \n",
       "508                        1       none            yes  0.263996    2  \n",
       "\n",
       "[5 rows x 23 columns]"
      ]
     },
     "execution_count": 11,
     "metadata": {},
     "output_type": "execute_result"
    }
   ],
   "source": [
    "all_X.sort_values('proba', inplace=True)\n",
    "valid_X = all_X[all_X.proba < 0.5]\n",
    "\n",
    "# On calcule le nombre de variable qu'on a du modifier\n",
    "valid_X = valid_X.assign(diff = [(valid_X.iloc[i][var_values] == X.iloc[idx][var_values]).value_counts()[False] \n",
    "                                       for i in range(len(valid_X))])\n",
    "\n",
    "valid_X.sort_values(by=['diff', 'proba'], inplace=True)\n",
    "valid_X.head(5)"
   ]
  },
  {
   "cell_type": "code",
   "execution_count": 12,
   "metadata": {},
   "outputs": [],
   "source": [
    "def print_diff(new_comb, old_comb):\n",
    "    diff_comb = (new_comb != old_comb)\n",
    "    diff_pd = pd.DataFrame([old_comb[diff_comb], new_comb[diff_comb]], index=['old', 'new']).transpose()\n",
    "\n",
    "    max_ind = max([len(x) for x in diff_pd.index])\n",
    "    max_old = max([len(x) for x in diff_pd.old])\n",
    "    max_new = max([len(x) for x in diff_pd.new])\n",
    "\n",
    "    for i in new_comb[diff_comb].index :\n",
    "        print(f'{i:<{max_ind}} : {diff_pd.old[i]:<{max_old}} --> {diff_pd.new[i]:<{max_new}}')"
   ]
  },
  {
   "cell_type": "code",
   "execution_count": 13,
   "metadata": {},
   "outputs": [
    {
     "name": "stdout",
     "output_type": "stream",
     "text": [
      "purpose : domestic appliances --> car (used)\n"
     ]
    }
   ],
   "source": [
    "print_diff(valid_X.iloc[0][var_values], X.iloc[idx][var_values])"
   ]
  },
  {
   "cell_type": "code",
   "execution_count": 14,
   "metadata": {},
   "outputs": [],
   "source": [
    "X_ref = X.loc[idx_ref]"
   ]
  },
  {
   "cell_type": "code",
   "execution_count": 15,
   "metadata": {},
   "outputs": [],
   "source": [
    "new = False\n",
    "\n",
    "if new:\n",
    "    all_X = pd.DataFrame([X.iloc[idx][fix_values].tolist() + list(p)  + [idx] for idx in tqdm(idx_ref) for p in prod],\n",
    "                         columns=fix_values + var_values + ['index_old'])\n",
    "    all_X = all_X[list(X.columns) + ['index_old']]\n",
    "    all_X['proba'] = logreg.predict_proba(all_X.drop('index_old', axis=1))[:, 1]\n",
    "    np.savez_compressed('data/privacy/all_X.npz', data=np.array(all_X), columns=all_X.columns)\n",
    "else:\n",
    "    file = np.load('data/privacy/all_X.npz', allow_pickle=True)\n",
    "    all_X = pd.DataFrame(file['data'], columns=file['columns'])\n",
    "\n",
    "X_false = X.loc[idx_ref]\n",
    "X_false = X_false.assign(proba = logreg.predict_proba(X_false)[:, 1])\n",
    "\n",
    "X_false = X_false.assign(proba_min = all_X.groupby('index_old').apply(lambda x: x.sort_values('proba').head(1)) \\\n",
    "                                                                .set_index('index_old').proba)"
   ]
  },
  {
   "cell_type": "code",
   "execution_count": 16,
   "metadata": {},
   "outputs": [
    {
     "data": {
      "text/plain": [
       "212"
      ]
     },
     "execution_count": 16,
     "metadata": {},
     "output_type": "execute_result"
    }
   ],
   "source": [
    "len(X_false[X_false.proba_min < 0.5])"
   ]
  },
  {
   "cell_type": "code",
   "execution_count": 17,
   "metadata": {},
   "outputs": [
    {
     "data": {
      "image/png": "[encoded data removed]",
      "text/plain": [
       "<Figure size 432x288 with 1 Axes>"
      ]
     },
     "metadata": {},
     "output_type": "display_data"
    }
   ],
   "source": [
    "(X_false.proba - X_false.proba_min).plot.hist()\n",
    "plt.show()"
   ]
  },
  {
   "cell_type": "code",
   "execution_count": 18,
   "metadata": {},
   "outputs": [
    {
     "data": {
      "text/html": [
       "<div>\n",
       "<style scoped>\n",
       "    .dataframe tbody tr th:only-of-type {\n",
       "        vertical-align: middle;\n",
       "    }\n",
       "\n",
       "    .dataframe tbody tr th {\n",
       "        vertical-align: top;\n",
       "    }\n",
       "\n",
       "    .dataframe thead th {\n",
       "        text-align: right;\n",
       "    }\n",
       "</style>\n",
       "<table border=\"1\" class=\"dataframe\">\n",
       "  <thead>\n",
       "    <tr style=\"text-align: right;\">\n",
       "      <th></th>\n",
       "      <th>account_check_status</th>\n",
       "      <th>duration_in_month</th>\n",
       "      <th>credit_history</th>\n",
       "      <th>purpose</th>\n",
       "      <th>credit_amount</th>\n",
       "      <th>savings</th>\n",
       "      <th>present_emp_since</th>\n",
       "      <th>installment_as_income_perc</th>\n",
       "      <th>sex</th>\n",
       "      <th>personal _status</th>\n",
       "      <th>...</th>\n",
       "      <th>age</th>\n",
       "      <th>other_installment_plans</th>\n",
       "      <th>housing</th>\n",
       "      <th>credits_this_bank</th>\n",
       "      <th>job</th>\n",
       "      <th>people_under_maintenance</th>\n",
       "      <th>telephone</th>\n",
       "      <th>foreign_worker</th>\n",
       "      <th>proba</th>\n",
       "      <th>proba_min</th>\n",
       "    </tr>\n",
       "  </thead>\n",
       "  <tbody>\n",
       "    <tr>\n",
       "      <th>29</th>\n",
       "      <td>&lt; 0 DM</td>\n",
       "      <td>60</td>\n",
       "      <td>delay in paying off in the past</td>\n",
       "      <td>business</td>\n",
       "      <td>6836</td>\n",
       "      <td>... &lt; 100 DM</td>\n",
       "      <td>.. &gt;= 7 years</td>\n",
       "      <td>3</td>\n",
       "      <td>male</td>\n",
       "      <td>single</td>\n",
       "      <td>...</td>\n",
       "      <td>63</td>\n",
       "      <td>none</td>\n",
       "      <td>own</td>\n",
       "      <td>2</td>\n",
       "      <td>skilled employee / official</td>\n",
       "      <td>1</td>\n",
       "      <td>yes, registered under the customers name</td>\n",
       "      <td>yes</td>\n",
       "      <td>0.864682</td>\n",
       "      <td>0.52768</td>\n",
       "    </tr>\n",
       "    <tr>\n",
       "      <th>95</th>\n",
       "      <td>0 &lt;= ... &lt; 200 DM</td>\n",
       "      <td>54</td>\n",
       "      <td>no credits taken/ all credits paid back duly</td>\n",
       "      <td>business</td>\n",
       "      <td>15945</td>\n",
       "      <td>... &lt; 100 DM</td>\n",
       "      <td>... &lt; 1 year</td>\n",
       "      <td>3</td>\n",
       "      <td>male</td>\n",
       "      <td>single</td>\n",
       "      <td>...</td>\n",
       "      <td>58</td>\n",
       "      <td>none</td>\n",
       "      <td>rent</td>\n",
       "      <td>1</td>\n",
       "      <td>skilled employee / official</td>\n",
       "      <td>1</td>\n",
       "      <td>yes, registered under the customers name</td>\n",
       "      <td>yes</td>\n",
       "      <td>0.930303</td>\n",
       "      <td>0.664193</td>\n",
       "    </tr>\n",
       "    <tr>\n",
       "      <th>334</th>\n",
       "      <td>&lt; 0 DM</td>\n",
       "      <td>24</td>\n",
       "      <td>no credits taken/ all credits paid back duly</td>\n",
       "      <td>radio/television</td>\n",
       "      <td>4110</td>\n",
       "      <td>... &lt; 100 DM</td>\n",
       "      <td>.. &gt;= 7 years</td>\n",
       "      <td>3</td>\n",
       "      <td>male</td>\n",
       "      <td>single</td>\n",
       "      <td>...</td>\n",
       "      <td>23</td>\n",
       "      <td>bank</td>\n",
       "      <td>rent</td>\n",
       "      <td>2</td>\n",
       "      <td>skilled employee / official</td>\n",
       "      <td>2</td>\n",
       "      <td>none</td>\n",
       "      <td>yes</td>\n",
       "      <td>0.866776</td>\n",
       "      <td>0.519487</td>\n",
       "    </tr>\n",
       "    <tr>\n",
       "      <th>374</th>\n",
       "      <td>0 &lt;= ... &lt; 200 DM</td>\n",
       "      <td>60</td>\n",
       "      <td>all credits at this bank paid back duly</td>\n",
       "      <td>furniture/equipment</td>\n",
       "      <td>14782</td>\n",
       "      <td>100 &lt;= ... &lt; 500 DM</td>\n",
       "      <td>.. &gt;= 7 years</td>\n",
       "      <td>3</td>\n",
       "      <td>female</td>\n",
       "      <td>divorced</td>\n",
       "      <td>...</td>\n",
       "      <td>60</td>\n",
       "      <td>bank</td>\n",
       "      <td>for free</td>\n",
       "      <td>2</td>\n",
       "      <td>management/ self-employed/ highly qualified em...</td>\n",
       "      <td>1</td>\n",
       "      <td>yes, registered under the customers name</td>\n",
       "      <td>yes</td>\n",
       "      <td>0.950675</td>\n",
       "      <td>0.706918</td>\n",
       "    </tr>\n",
       "    <tr>\n",
       "      <th>538</th>\n",
       "      <td>&lt; 0 DM</td>\n",
       "      <td>48</td>\n",
       "      <td>existing credits paid back duly till now</td>\n",
       "      <td>car (new)</td>\n",
       "      <td>7763</td>\n",
       "      <td>... &lt; 100 DM</td>\n",
       "      <td>.. &gt;= 7 years</td>\n",
       "      <td>4</td>\n",
       "      <td>male</td>\n",
       "      <td>single</td>\n",
       "      <td>...</td>\n",
       "      <td>42</td>\n",
       "      <td>bank</td>\n",
       "      <td>for free</td>\n",
       "      <td>1</td>\n",
       "      <td>management/ self-employed/ highly qualified em...</td>\n",
       "      <td>1</td>\n",
       "      <td>none</td>\n",
       "      <td>yes</td>\n",
       "      <td>0.940321</td>\n",
       "      <td>0.641234</td>\n",
       "    </tr>\n",
       "    <tr>\n",
       "      <th>650</th>\n",
       "      <td>&lt; 0 DM</td>\n",
       "      <td>48</td>\n",
       "      <td>existing credits paid back duly till now</td>\n",
       "      <td>(vacation - does not exist?)</td>\n",
       "      <td>7476</td>\n",
       "      <td>... &lt; 100 DM</td>\n",
       "      <td>4 &lt;= ... &lt; 7 years</td>\n",
       "      <td>4</td>\n",
       "      <td>male</td>\n",
       "      <td>single</td>\n",
       "      <td>...</td>\n",
       "      <td>50</td>\n",
       "      <td>none</td>\n",
       "      <td>for free</td>\n",
       "      <td>1</td>\n",
       "      <td>management/ self-employed/ highly qualified em...</td>\n",
       "      <td>1</td>\n",
       "      <td>yes, registered under the customers name</td>\n",
       "      <td>yes</td>\n",
       "      <td>0.819160</td>\n",
       "      <td>0.506383</td>\n",
       "    </tr>\n",
       "    <tr>\n",
       "      <th>714</th>\n",
       "      <td>0 &lt;= ... &lt; 200 DM</td>\n",
       "      <td>60</td>\n",
       "      <td>existing credits paid back duly till now</td>\n",
       "      <td>car (new)</td>\n",
       "      <td>14027</td>\n",
       "      <td>... &lt; 100 DM</td>\n",
       "      <td>4 &lt;= ... &lt; 7 years</td>\n",
       "      <td>4</td>\n",
       "      <td>male</td>\n",
       "      <td>single</td>\n",
       "      <td>...</td>\n",
       "      <td>27</td>\n",
       "      <td>none</td>\n",
       "      <td>own</td>\n",
       "      <td>1</td>\n",
       "      <td>management/ self-employed/ highly qualified em...</td>\n",
       "      <td>1</td>\n",
       "      <td>yes, registered under the customers name</td>\n",
       "      <td>yes</td>\n",
       "      <td>0.930525</td>\n",
       "      <td>0.6976</td>\n",
       "    </tr>\n",
       "    <tr>\n",
       "      <th>728</th>\n",
       "      <td>0 &lt;= ... &lt; 200 DM</td>\n",
       "      <td>48</td>\n",
       "      <td>all credits at this bank paid back duly</td>\n",
       "      <td>business</td>\n",
       "      <td>6416</td>\n",
       "      <td>... &lt; 100 DM</td>\n",
       "      <td>.. &gt;= 7 years</td>\n",
       "      <td>4</td>\n",
       "      <td>female</td>\n",
       "      <td>divorced</td>\n",
       "      <td>...</td>\n",
       "      <td>59</td>\n",
       "      <td>none</td>\n",
       "      <td>rent</td>\n",
       "      <td>1</td>\n",
       "      <td>skilled employee / official</td>\n",
       "      <td>1</td>\n",
       "      <td>none</td>\n",
       "      <td>yes</td>\n",
       "      <td>0.925651</td>\n",
       "      <td>0.524549</td>\n",
       "    </tr>\n",
       "    <tr>\n",
       "      <th>832</th>\n",
       "      <td>&lt; 0 DM</td>\n",
       "      <td>45</td>\n",
       "      <td>no credits taken/ all credits paid back duly</td>\n",
       "      <td>business</td>\n",
       "      <td>11816</td>\n",
       "      <td>... &lt; 100 DM</td>\n",
       "      <td>.. &gt;= 7 years</td>\n",
       "      <td>2</td>\n",
       "      <td>male</td>\n",
       "      <td>single</td>\n",
       "      <td>...</td>\n",
       "      <td>29</td>\n",
       "      <td>none</td>\n",
       "      <td>rent</td>\n",
       "      <td>2</td>\n",
       "      <td>skilled employee / official</td>\n",
       "      <td>1</td>\n",
       "      <td>none</td>\n",
       "      <td>yes</td>\n",
       "      <td>0.874828</td>\n",
       "      <td>0.549941</td>\n",
       "    </tr>\n",
       "    <tr>\n",
       "      <th>927</th>\n",
       "      <td>&lt; 0 DM</td>\n",
       "      <td>48</td>\n",
       "      <td>existing credits paid back duly till now</td>\n",
       "      <td>car (used)</td>\n",
       "      <td>10297</td>\n",
       "      <td>... &lt; 100 DM</td>\n",
       "      <td>4 &lt;= ... &lt; 7 years</td>\n",
       "      <td>4</td>\n",
       "      <td>male</td>\n",
       "      <td>single</td>\n",
       "      <td>...</td>\n",
       "      <td>39</td>\n",
       "      <td>stores</td>\n",
       "      <td>for free</td>\n",
       "      <td>3</td>\n",
       "      <td>skilled employee / official</td>\n",
       "      <td>2</td>\n",
       "      <td>yes, registered under the customers name</td>\n",
       "      <td>yes</td>\n",
       "      <td>0.772503</td>\n",
       "      <td>0.723198</td>\n",
       "    </tr>\n",
       "    <tr>\n",
       "      <th>973</th>\n",
       "      <td>&lt; 0 DM</td>\n",
       "      <td>60</td>\n",
       "      <td>existing credits paid back duly till now</td>\n",
       "      <td>business</td>\n",
       "      <td>7297</td>\n",
       "      <td>... &lt; 100 DM</td>\n",
       "      <td>.. &gt;= 7 years</td>\n",
       "      <td>4</td>\n",
       "      <td>male</td>\n",
       "      <td>single</td>\n",
       "      <td>...</td>\n",
       "      <td>36</td>\n",
       "      <td>none</td>\n",
       "      <td>rent</td>\n",
       "      <td>1</td>\n",
       "      <td>skilled employee / official</td>\n",
       "      <td>1</td>\n",
       "      <td>none</td>\n",
       "      <td>yes</td>\n",
       "      <td>0.937913</td>\n",
       "      <td>0.725362</td>\n",
       "    </tr>\n",
       "  </tbody>\n",
       "</table>\n",
       "<p>11 rows × 23 columns</p>\n",
       "</div>"
      ],
      "text/plain": [
       "    account_check_status  duration_in_month  \\\n",
       "29                < 0 DM                 60   \n",
       "95     0 <= ... < 200 DM                 54   \n",
       "334               < 0 DM                 24   \n",
       "374    0 <= ... < 200 DM                 60   \n",
       "538               < 0 DM                 48   \n",
       "650               < 0 DM                 48   \n",
       "714    0 <= ... < 200 DM                 60   \n",
       "728    0 <= ... < 200 DM                 48   \n",
       "832               < 0 DM                 45   \n",
       "927               < 0 DM                 48   \n",
       "973               < 0 DM                 60   \n",
       "\n",
       "                                   credit_history  \\\n",
       "29                delay in paying off in the past   \n",
       "95   no credits taken/ all credits paid back duly   \n",
       "334  no credits taken/ all credits paid back duly   \n",
       "374       all credits at this bank paid back duly   \n",
       "538      existing credits paid back duly till now   \n",
       "650      existing credits paid back duly till now   \n",
       "714      existing credits paid back duly till now   \n",
       "728       all credits at this bank paid back duly   \n",
       "832  no credits taken/ all credits paid back duly   \n",
       "927      existing credits paid back duly till now   \n",
       "973      existing credits paid back duly till now   \n",
       "\n",
       "                          purpose  credit_amount              savings  \\\n",
       "29                       business           6836         ... < 100 DM   \n",
       "95                       business          15945         ... < 100 DM   \n",
       "334              radio/television           4110         ... < 100 DM   \n",
       "374           furniture/equipment          14782  100 <= ... < 500 DM   \n",
       "538                     car (new)           7763         ... < 100 DM   \n",
       "650  (vacation - does not exist?)           7476         ... < 100 DM   \n",
       "714                     car (new)          14027         ... < 100 DM   \n",
       "728                      business           6416         ... < 100 DM   \n",
       "832                      business          11816         ... < 100 DM   \n",
       "927                    car (used)          10297         ... < 100 DM   \n",
       "973                      business           7297         ... < 100 DM   \n",
       "\n",
       "      present_emp_since  installment_as_income_perc     sex personal _status  \\\n",
       "29        .. >= 7 years                           3    male           single   \n",
       "95         ... < 1 year                           3    male           single   \n",
       "334       .. >= 7 years                           3    male           single   \n",
       "374       .. >= 7 years                           3  female         divorced   \n",
       "538       .. >= 7 years                           4    male           single   \n",
       "650  4 <= ... < 7 years                           4    male           single   \n",
       "714  4 <= ... < 7 years                           4    male           single   \n",
       "728       .. >= 7 years                           4  female         divorced   \n",
       "832       .. >= 7 years                           2    male           single   \n",
       "927  4 <= ... < 7 years                           4    male           single   \n",
       "973       .. >= 7 years                           4    male           single   \n",
       "\n",
       "     ... age  other_installment_plans   housing  credits_this_bank  \\\n",
       "29   ...  63                     none       own                  2   \n",
       "95   ...  58                     none      rent                  1   \n",
       "334  ...  23                     bank      rent                  2   \n",
       "374  ...  60                     bank  for free                  2   \n",
       "538  ...  42                     bank  for free                  1   \n",
       "650  ...  50                     none  for free                  1   \n",
       "714  ...  27                     none       own                  1   \n",
       "728  ...  59                     none      rent                  1   \n",
       "832  ...  29                     none      rent                  2   \n",
       "927  ...  39                   stores  for free                  3   \n",
       "973  ...  36                     none      rent                  1   \n",
       "\n",
       "                                                   job  \\\n",
       "29                         skilled employee / official   \n",
       "95                         skilled employee / official   \n",
       "334                        skilled employee / official   \n",
       "374  management/ self-employed/ highly qualified em...   \n",
       "538  management/ self-employed/ highly qualified em...   \n",
       "650  management/ self-employed/ highly qualified em...   \n",
       "714  management/ self-employed/ highly qualified em...   \n",
       "728                        skilled employee / official   \n",
       "832                        skilled employee / official   \n",
       "927                        skilled employee / official   \n",
       "973                        skilled employee / official   \n",
       "\n",
       "    people_under_maintenance                                 telephone  \\\n",
       "29                         1  yes, registered under the customers name   \n",
       "95                         1  yes, registered under the customers name   \n",
       "334                        2                                      none   \n",
       "374                        1  yes, registered under the customers name   \n",
       "538                        1                                      none   \n",
       "650                        1  yes, registered under the customers name   \n",
       "714                        1  yes, registered under the customers name   \n",
       "728                        1                                      none   \n",
       "832                        1                                      none   \n",
       "927                        2  yes, registered under the customers name   \n",
       "973                        1                                      none   \n",
       "\n",
       "    foreign_worker     proba proba_min  \n",
       "29             yes  0.864682   0.52768  \n",
       "95             yes  0.930303  0.664193  \n",
       "334            yes  0.866776  0.519487  \n",
       "374            yes  0.950675  0.706918  \n",
       "538            yes  0.940321  0.641234  \n",
       "650            yes  0.819160  0.506383  \n",
       "714            yes  0.930525    0.6976  \n",
       "728            yes  0.925651  0.524549  \n",
       "832            yes  0.874828  0.549941  \n",
       "927            yes  0.772503  0.723198  \n",
       "973            yes  0.937913  0.725362  \n",
       "\n",
       "[11 rows x 23 columns]"
      ]
     },
     "execution_count": 18,
     "metadata": {},
     "output_type": "execute_result"
    }
   ],
   "source": [
    "X_false[X_false.proba_min >= 0.5]"
   ]
  },
  {
   "cell_type": "markdown",
   "metadata": {},
   "source": [
    "# Poisoning\n",
    "\n",
    "On remarque qu'il y a certaine personne pour qui la modification de variables difficilement vérifiables n'est pas suffisant. \n",
    "On passe donc à la deuxième attaque *poisoning*. On a vu précédemment que l'individu *232* fait partie des personnes ne pouvant pas utiliser la triche pour pouvoir être accepté.\n",
    "\n",
    "On va rajouter sa ligne dans la base de donnée d'entrainement et voir si cela a un impact."
   ]
  },
  {
   "cell_type": "code",
   "execution_count": 19,
   "metadata": {},
   "outputs": [],
   "source": [
    "y = credit['default']\n",
    "X = credit.drop(columns=\"default\")\n",
    "\n",
    "ind = X.iloc[[95]]"
   ]
  },
  {
   "cell_type": "code",
   "execution_count": 20,
   "metadata": {},
   "outputs": [
    {
     "data": {
      "text/html": [
       "<div>\n",
       "<style scoped>\n",
       "    .dataframe tbody tr th:only-of-type {\n",
       "        vertical-align: middle;\n",
       "    }\n",
       "\n",
       "    .dataframe tbody tr th {\n",
       "        vertical-align: top;\n",
       "    }\n",
       "\n",
       "    .dataframe thead th {\n",
       "        text-align: right;\n",
       "    }\n",
       "</style>\n",
       "<table border=\"1\" class=\"dataframe\">\n",
       "  <thead>\n",
       "    <tr style=\"text-align: right;\">\n",
       "      <th></th>\n",
       "      <th>account_check_status</th>\n",
       "      <th>duration_in_month</th>\n",
       "      <th>credit_history</th>\n",
       "      <th>purpose</th>\n",
       "      <th>credit_amount</th>\n",
       "      <th>savings</th>\n",
       "      <th>present_emp_since</th>\n",
       "      <th>installment_as_income_perc</th>\n",
       "      <th>sex</th>\n",
       "      <th>personal _status</th>\n",
       "      <th>...</th>\n",
       "      <th>present_res_since</th>\n",
       "      <th>property</th>\n",
       "      <th>age</th>\n",
       "      <th>other_installment_plans</th>\n",
       "      <th>housing</th>\n",
       "      <th>credits_this_bank</th>\n",
       "      <th>job</th>\n",
       "      <th>people_under_maintenance</th>\n",
       "      <th>telephone</th>\n",
       "      <th>foreign_worker</th>\n",
       "    </tr>\n",
       "  </thead>\n",
       "  <tbody>\n",
       "    <tr>\n",
       "      <th>95</th>\n",
       "      <td>0 &lt;= ... &lt; 200 DM</td>\n",
       "      <td>54</td>\n",
       "      <td>no credits taken/ all credits paid back duly</td>\n",
       "      <td>business</td>\n",
       "      <td>15945</td>\n",
       "      <td>... &lt; 100 DM</td>\n",
       "      <td>... &lt; 1 year</td>\n",
       "      <td>3</td>\n",
       "      <td>male</td>\n",
       "      <td>single</td>\n",
       "      <td>...</td>\n",
       "      <td>4</td>\n",
       "      <td>unknown / no property</td>\n",
       "      <td>58</td>\n",
       "      <td>none</td>\n",
       "      <td>rent</td>\n",
       "      <td>1</td>\n",
       "      <td>skilled employee / official</td>\n",
       "      <td>1</td>\n",
       "      <td>yes, registered under the customers name</td>\n",
       "      <td>yes</td>\n",
       "    </tr>\n",
       "  </tbody>\n",
       "</table>\n",
       "<p>1 rows × 21 columns</p>\n",
       "</div>"
      ],
      "text/plain": [
       "   account_check_status  duration_in_month  \\\n",
       "95    0 <= ... < 200 DM                 54   \n",
       "\n",
       "                                  credit_history   purpose  credit_amount  \\\n",
       "95  no credits taken/ all credits paid back duly  business          15945   \n",
       "\n",
       "         savings present_emp_since  installment_as_income_perc   sex  \\\n",
       "95  ... < 100 DM      ... < 1 year                           3  male   \n",
       "\n",
       "   personal _status  ... present_res_since               property age  \\\n",
       "95           single  ...                 4  unknown / no property  58   \n",
       "\n",
       "    other_installment_plans housing credits_this_bank  \\\n",
       "95                     none    rent                 1   \n",
       "\n",
       "                            job people_under_maintenance  \\\n",
       "95  skilled employee / official                        1   \n",
       "\n",
       "                                   telephone foreign_worker  \n",
       "95  yes, registered under the customers name            yes  \n",
       "\n",
       "[1 rows x 21 columns]"
      ]
     },
     "execution_count": 20,
     "metadata": {},
     "output_type": "execute_result"
    }
   ],
   "source": [
    "ind"
   ]
  },
  {
   "cell_type": "code",
   "execution_count": 21,
   "metadata": {},
   "outputs": [],
   "source": [
    "n = 9\n",
    "X_train_pois = X_train.append([ind]*n, ignore_index=True)\n",
    "y_train_pois = pd.Series(list(y_train) + [0]*n)"
   ]
  },
  {
   "cell_type": "code",
   "execution_count": 22,
   "metadata": {},
   "outputs": [
    {
     "name": "stdout",
     "output_type": "stream",
     "text": [
      "Sensitivity_recall :  0.8013245033112583\n",
      "Specificity:  0.6122448979591837\n",
      "Precision:  0.8642857142857143\n",
      "Accuracy:  0.755\n"
     ]
    },
    {
     "data": {
      "image/png": "[encoded data removed]",
      "text/plain": [
       "<Figure size 432x288 with 2 Axes>"
      ]
     },
     "metadata": {},
     "output_type": "display_data"
    }
   ],
   "source": [
    "logreg = model.fit(X_train, y_train)\n",
    "\n",
    "mesure_reg(logreg, X_test, y_test)"
   ]
  },
  {
   "cell_type": "code",
   "execution_count": 23,
   "metadata": {},
   "outputs": [
    {
     "data": {
      "text/plain": [
       "0.9303033802254793"
      ]
     },
     "execution_count": 23,
     "metadata": {},
     "output_type": "execute_result"
    }
   ],
   "source": [
    "logreg.predict_proba(ind)[0,1]"
   ]
  },
  {
   "cell_type": "code",
   "execution_count": 24,
   "metadata": {},
   "outputs": [
    {
     "name": "stdout",
     "output_type": "stream",
     "text": [
      "Sensitivity_recall :  0.7806451612903226\n",
      "Specificity:  0.5777777777777777\n",
      "Precision:  0.8642857142857143\n",
      "Accuracy:  0.735\n"
     ]
    },
    {
     "data": {
      "image/png": "[encoded data removed]",
      "text/plain": [
       "<Figure size 432x288 with 2 Axes>"
      ]
     },
     "metadata": {},
     "output_type": "display_data"
    }
   ],
   "source": [
    "logreg_pois = model.fit(X_train_pois, y_train_pois)\n",
    "\n",
    "mesure_reg(logreg_pois, X_test, y_test)"
   ]
  },
  {
   "cell_type": "code",
   "execution_count": 25,
   "metadata": {},
   "outputs": [
    {
     "data": {
      "text/plain": [
       "0.47122487407884994"
      ]
     },
     "execution_count": 25,
     "metadata": {},
     "output_type": "execute_result"
    }
   ],
   "source": [
    "logreg_pois.predict_proba(ind)[0,1]"
   ]
  },
  {
   "cell_type": "markdown",
   "metadata": {},
   "source": [
    "On automatise la recherche du nombre minimum de copie pour passer."
   ]
  },
  {
   "cell_type": "code",
   "execution_count": 26,
   "metadata": {},
   "outputs": [],
   "source": [
    "def min_pois(ind):\n",
    "    n = 0\n",
    "    X_train_pois = X_train\n",
    "    y_train_pois = y_train\n",
    "    \n",
    "    while model.fit(X_train_pois, y_train_pois).predict_proba(ind)[0,1] > 0.5:\n",
    "        n += 1\n",
    "        X_train_pois = X_train_pois.append([ind], ignore_index=True)\n",
    "        y_train_pois = pd.Series(list(y_train_pois) + [0])\n",
    "        \n",
    "    return n"
   ]
  },
  {
   "cell_type": "code",
   "execution_count": 27,
   "metadata": {},
   "outputs": [
    {
     "data": {
      "text/plain": [
       "9"
      ]
     },
     "execution_count": 27,
     "metadata": {},
     "output_type": "execute_result"
    }
   ],
   "source": [
    "min_pois(ind)"
   ]
  },
  {
   "cell_type": "markdown",
   "metadata": {},
   "source": [
    "On regarde la distribution pour les personnes qui ont besoin du poisoning"
   ]
  },
  {
   "cell_type": "code",
   "execution_count": 28,
   "metadata": {},
   "outputs": [],
   "source": [
    "list_min = X_false[X_false.proba_min > 0.5].drop(columns=['proba', 'proba_min']).apply(lambda x: min_pois(x.to_frame().transpose()), axis=1)"
   ]
  },
  {
   "cell_type": "code",
   "execution_count": 29,
   "metadata": {},
   "outputs": [
    {
     "data": {
      "image/png": "[encoded data removed]",
      "text/plain": [
       "<Figure size 432x288 with 1 Axes>"
      ]
     },
     "metadata": {},
     "output_type": "display_data"
    }
   ],
   "source": [
    "list_min.plot.hist()\n",
    "plt.show()"
   ]
  },
  {
   "cell_type": "markdown",
   "metadata": {},
   "source": [
    "On peut coupler les deux premières attaques pour avoir encore moins de copie à rajouter."
   ]
  },
  {
   "cell_type": "code",
   "execution_count": 30,
   "metadata": {},
   "outputs": [],
   "source": [
    "ind_best_comb = all_X[all_X['index_old'] == ind.index[0]].sort_values(by='proba').head(1)  \\\n",
    "                                            .drop(['index_old', 'proba'], axis=1)"
   ]
  },
  {
   "cell_type": "code",
   "execution_count": 31,
   "metadata": {},
   "outputs": [
    {
     "name": "stdout",
     "output_type": "stream",
     "text": [
      "purpose           : business                    --> car (used)                                                   \n",
      "present_emp_since : ... < 1 year                --> 4 <= ... < 7 years                                           \n",
      "job               : skilled employee / official --> management/ self-employed/ highly qualified employee/ officer\n"
     ]
    }
   ],
   "source": [
    "print_diff(ind_best_comb.iloc[0], ind.iloc[0])"
   ]
  },
  {
   "cell_type": "code",
   "execution_count": 32,
   "metadata": {},
   "outputs": [],
   "source": [
    "n = 2\n",
    "X_train_pois_best = X_train.append([ind_best_comb]*n, ignore_index=True)\n",
    "y_train_pois_best = pd.Series(list(y_train) + [0]*n)"
   ]
  },
  {
   "cell_type": "code",
   "execution_count": 33,
   "metadata": {},
   "outputs": [
    {
     "name": "stdout",
     "output_type": "stream",
     "text": [
      "Sensitivity_recall :  0.7894736842105263\n",
      "Specificity:  0.5833333333333334\n",
      "Precision:  0.8571428571428571\n",
      "Accuracy:  0.74\n"
     ]
    },
    {
     "data": {
      "image/png": "[encoded data removed]",
      "text/plain": [
       "<Figure size 432x288 with 2 Axes>"
      ]
     },
     "metadata": {},
     "output_type": "display_data"
    }
   ],
   "source": [
    "logreg_pois_best = model.fit(X_train_pois_best, y_train_pois_best)\n",
    "\n",
    "mesure_reg(logreg_pois_best, X_test, y_test)"
   ]
  },
  {
   "cell_type": "code",
   "execution_count": 34,
   "metadata": {},
   "outputs": [
    {
     "data": {
      "text/plain": [
       "0.49323459330076747"
      ]
     },
     "execution_count": 34,
     "metadata": {},
     "output_type": "execute_result"
    }
   ],
   "source": [
    "logreg_pois_best.predict_proba(ind_best_comb)[0,1]"
   ]
  },
  {
   "cell_type": "markdown",
   "metadata": {},
   "source": [
    "On automatise"
   ]
  },
  {
   "cell_type": "code",
   "execution_count": 35,
   "metadata": {},
   "outputs": [],
   "source": [
    "def min_pois_best_comb(ind, print_chan=True):\n",
    "    ind_best_comb = all_X[all_X['index_old'] == ind.index[0]].sort_values(by='proba').head(1)  \\\n",
    "                                            .drop(['index_old', 'proba'], axis=1)\n",
    "\n",
    "    print_diff(ind_best_comb.iloc[0], ind.iloc[0]) if print_chan else ...\n",
    "    \n",
    "    n = 0\n",
    "    X_train_pois = X_train\n",
    "    y_train_pois = y_train\n",
    "    \n",
    "    while model.fit(X_train_pois, y_train_pois).predict_proba(ind_best_comb)[0,1] > 0.5:\n",
    "        n += 1\n",
    "        X_train_pois = X_train_pois.append([ind_best_comb], ignore_index=True)\n",
    "        y_train_pois = pd.Series(list(y_train_pois) + [0])\n",
    "        \n",
    "    return n"
   ]
  },
  {
   "cell_type": "code",
   "execution_count": 36,
   "metadata": {},
   "outputs": [
    {
     "name": "stdout",
     "output_type": "stream",
     "text": [
      "purpose           : business                    --> car (used)                                                   \n",
      "present_emp_since : ... < 1 year                --> 4 <= ... < 7 years                                           \n",
      "job               : skilled employee / official --> management/ self-employed/ highly qualified employee/ officer\n"
     ]
    },
    {
     "data": {
      "text/plain": [
       "2"
      ]
     },
     "execution_count": 36,
     "metadata": {},
     "output_type": "execute_result"
    }
   ],
   "source": [
    "min_pois_best_comb(ind)"
   ]
  },
  {
   "cell_type": "code",
   "execution_count": 37,
   "metadata": {},
   "outputs": [],
   "source": [
    "%%capture\n",
    "list_min_best_comb = X_false[X_false.proba_min > 0.5].apply(lambda x: \n",
    "                                                            min_pois_best_comb(x.to_frame().transpose(), False), axis=1)"
   ]
  },
  {
   "cell_type": "code",
   "execution_count": 38,
   "metadata": {},
   "outputs": [
    {
     "data": {
      "image/png": "[encoded data removed]",
      "text/plain": [
       "<Figure size 432x288 with 1 Axes>"
      ]
     },
     "metadata": {},
     "output_type": "display_data"
    }
   ],
   "source": [
    "list_min_best_comb.plot.hist()\n",
    "plt.show()"
   ]
  },
  {
   "cell_type": "markdown",
   "metadata": {},
   "source": [
    "# Model extraction\n",
    "\n",
    "Le but de cette attaque est de réccupérer les poids d'un modèle.\n",
    "On suppose que l'on connait l'architechure : regression logistique.\n",
    "\n",
    "Ce que l'on va faire c'est créer des nouvelles entrées que l'on va donné à notre modèle blackbox qui va les labélisé puis on va utilser ces labels pour entrainer notre nouveau modèle."
   ]
  },
  {
   "cell_type": "code",
   "execution_count": 39,
   "metadata": {},
   "outputs": [],
   "source": [
    "def new_entries(n):\n",
    "    list_entries = []\n",
    "    for col in X.columns:\n",
    "        list_entries.append(np.random.choice(X[col].unique(), n, p=(X[col].value_counts(normalize=True)).to_numpy()))\n",
    "    return pd.DataFrame(np.array(list_entries).transpose(), columns=X.columns)"
   ]
  },
  {
   "cell_type": "code",
   "execution_count": 40,
   "metadata": {},
   "outputs": [],
   "source": [
    "n = len(X_train)\n",
    "X_new = new_entries(n)\n",
    "y_new = logreg.predict(X_new)"
   ]
  },
  {
   "cell_type": "code",
   "execution_count": 41,
   "metadata": {},
   "outputs": [
    {
     "name": "stdout",
     "output_type": "stream",
     "text": [
      "Sensitivity_recall :  0.8013245033112583\n",
      "Specificity:  0.6122448979591837\n",
      "Precision:  0.8642857142857143\n",
      "Accuracy:  0.755\n"
     ]
    },
    {
     "data": {
      "image/png": "[encoded data removed]",
      "text/plain": [
       "<Figure size 432x288 with 2 Axes>"
      ]
     },
     "metadata": {},
     "output_type": "display_data"
    }
   ],
   "source": [
    "mesure_reg(model.fit(X_train, y_train), X_test, y_test)"
   ]
  },
  {
   "cell_type": "code",
   "execution_count": 42,
   "metadata": {},
   "outputs": [
    {
     "name": "stdout",
     "output_type": "stream",
     "text": [
      "Sensitivity_recall :  0.7848101265822784\n",
      "Specificity:  0.6190476190476191\n",
      "Precision:  0.8857142857142857\n",
      "Accuracy:  0.75\n"
     ]
    },
    {
     "data": {
      "image/png": "[encoded data removed]",
      "text/plain": [
       "<Figure size 432x288 with 2 Axes>"
      ]
     },
     "metadata": {},
     "output_type": "display_data"
    }
   ],
   "source": [
    "mesure_reg(model.fit(X_new, y_new), X_test, y_test)"
   ]
  },
  {
   "cell_type": "code",
   "execution_count": 43,
   "metadata": {},
   "outputs": [],
   "source": [
    "def new_entries_unif(n):\n",
    "    list_entries = []\n",
    "    for col in X.columns:\n",
    "        list_entries.append(np.random.choice(X[col].unique(), n))\n",
    "    return pd.DataFrame(np.array(list_entries).transpose(), columns=X.columns)"
   ]
  },
  {
   "cell_type": "code",
   "execution_count": 44,
   "metadata": {},
   "outputs": [],
   "source": [
    "n = len(X_train)\n",
    "X_new_unif = new_entries_unif(n)\n",
    "logreg = model.fit(X_train, y_train)\n",
    "y_new_unif = logreg.predict(X_new_unif)"
   ]
  },
  {
   "cell_type": "code",
   "execution_count": 45,
   "metadata": {},
   "outputs": [
    {
     "name": "stdout",
     "output_type": "stream",
     "text": [
      "Sensitivity_recall :  0.7926829268292683\n",
      "Specificity:  0.7222222222222222\n",
      "Precision:  0.9285714285714286\n",
      "Accuracy:  0.78\n"
     ]
    },
    {
     "data": {
      "image/png": "[encoded data removed]",
      "text/plain": [
       "<Figure size 432x288 with 2 Axes>"
      ]
     },
     "metadata": {},
     "output_type": "display_data"
    }
   ],
   "source": [
    "mesure_reg(model.fit(X_new_unif, y_new_unif), X_test, y_test)"
   ]
  },
  {
   "cell_type": "markdown",
   "metadata": {},
   "source": [
    "Mesure de distance :\n",
    " - l'accuracy : mesure de l'efficacité de l'apprentissage\n",
    " - la précision : mesure de la distance du modèle original"
   ]
  },
  {
   "cell_type": "code",
   "execution_count": 46,
   "metadata": {},
   "outputs": [
    {
     "name": "stdout",
     "output_type": "stream",
     "text": [
      "Précision : 0.935, Différence d'accuracy : 0.005\n"
     ]
    }
   ],
   "source": [
    "y_hat = model.fit(X_new, y_new).predict(X_test)\n",
    "y_ori = model.fit(X_train, y_train).predict(X_test)\n",
    "\n",
    "prec = (y_ori == y_hat).astype(int).sum()/len(y_ori)\n",
    "accu_diff = accuracy_score(y_test, y_ori) - accuracy_score(y_test, y_hat)\n",
    "print(f\"Précision : {prec:.3f}, Différence d'accuracy : {accu_diff:.3f}\")"
   ]
  },
  {
   "cell_type": "code",
   "execution_count": 47,
   "metadata": {},
   "outputs": [
    {
     "name": "stdout",
     "output_type": "stream",
     "text": [
      "Précision : 0.885, Différence d'accuracy : -0.025\n"
     ]
    }
   ],
   "source": [
    "y_hat = model.fit(X_new_unif, y_new_unif).predict(X_test)\n",
    "y_ori = model.fit(X_train, y_train).predict(X_test)\n",
    "\n",
    "prec = (y_ori == y_hat).astype(int).sum()/len(y_ori)\n",
    "accu_diff = accuracy_score(y_test, y_ori) - accuracy_score(y_test, y_hat)\n",
    "print(f\"Précision : {prec:.3f}, Différence d'accuracy : {accu_diff:.3f}\")"
   ]
  },
  {
   "cell_type": "markdown",
   "metadata": {},
   "source": [
    "# Trouver un modèle capable de surapprendre"
   ]
  },
  {
   "cell_type": "code",
   "execution_count": 48,
   "metadata": {},
   "outputs": [],
   "source": [
    "def add_relations(df_orig):\n",
    "    df = df_orig.copy()\n",
    "    for i, j in combinations(variables_cat, 2):\n",
    "        df[i + j] = df[i] + df[j]\n",
    "    return df\n",
    "\n",
    "new_variables_cat = variables_cat + [i + j for i, j in combinations(variables_cat, 2)]\n",
    "\n",
    "\n",
    "# On normalise les colones dans leur noms\n",
    "all_values = [X[col].unique() for col in variables_cat]\n",
    "categorie_rel = list(combinations(all_values, 2))\n",
    "\n",
    "categorie_name = [a + b for a,b in combinations(variables_cat, 2)]\n",
    "categorie_values = [[a + b for a,b in list(product(*x))] for x in categorie_rel]\n",
    "\n",
    "preprocessor_comb = ColumnTransformer(\n",
    "    transformers=[\n",
    "        ('cat', OneHotEncoder(categories=all_values+categorie_values, drop='first', sparse=False), \n",
    "         new_variables_cat),\n",
    "        ('ord', StandardScaler(), variables_ord)\n",
    "    ])\n",
    "\n",
    "model_over = Pipeline(\n",
    "    steps=[\n",
    "        ('relations', FunctionTransformer(add_relations)), \n",
    "        ('preprocession', preprocessor_comb),\n",
    "        ('logreg', LogisticRegression(max_iter=200))\n",
    "    ]\n",
    ")"
   ]
  },
  {
   "cell_type": "code",
   "execution_count": 49,
   "metadata": {},
   "outputs": [
    {
     "name": "stdout",
     "output_type": "stream",
     "text": [
      "39.1 ms ± 2.89 ms per loop (mean ± std. dev. of 7 runs, 10 loops each)\n",
      "validation : 0.735, score : 0.787\n"
     ]
    }
   ],
   "source": [
    "#%timeit model.fit(X_train, y_train)\n",
    "#print(f\"validation : {model.score(X_test, y_test):.3f}, score : {model.score(X_train, y_train):.3f}\") \n",
    "\n",
    "print(\"\"\"39.1 ms ± 2.89 ms per loop (mean ± std. dev. of 7 runs, 10 loops each)\n",
    "validation : 0.735, score : 0.787\"\"\")"
   ]
  },
  {
   "cell_type": "code",
   "execution_count": 50,
   "metadata": {},
   "outputs": [
    {
     "name": "stdout",
     "output_type": "stream",
     "text": [
      "216 ms ± 21.8 ms per loop (mean ± std. dev. of 7 runs, 1 loop each)\n",
      "validation : 0.725, score : 0.958\n"
     ]
    }
   ],
   "source": [
    "#%timeit model_over.fit(X_train, y_train)\n",
    "#print(f\"validation : {model_over.score(X_test, y_test):.3f}, score : {model_over.score(X_train, y_train):.3f}\") \n",
    "\n",
    "print(\"\"\"216 ms ± 21.8 ms per loop (mean ± std. dev. of 7 runs, 1 loop each)\n",
    "validation : 0.725, score : 0.958\"\"\")"
   ]
  },
  {
   "cell_type": "markdown",
   "metadata": {},
   "source": [
    "On a donc de l'overfit "
   ]
  },
  {
   "cell_type": "markdown",
   "metadata": {},
   "source": [
    "# Proprety inference\n",
    "\n",
    "On va chercher a reccupérer la proportion homme/femme de la base de donnée d'entrainement"
   ]
  },
  {
   "cell_type": "code",
   "execution_count": 51,
   "metadata": {},
   "outputs": [
    {
     "data": {
      "image/png": "[encoded data removed]",
      "text/plain": [
       "<Figure size 432x288 with 1 Axes>"
      ]
     },
     "metadata": {},
     "output_type": "display_data"
    }
   ],
   "source": [
    "dist = np.random.normal(np.random.choice([0.4, 0.6], size=1000), scale=0.05)\n",
    "plt.hist(dist, density=True, bins=50)\n",
    "plt.show()"
   ]
  },
  {
   "cell_type": "code",
   "execution_count": 52,
   "metadata": {},
   "outputs": [],
   "source": [
    "def new_entries_homme(n, prop=False):\n",
    "    list_entries = []\n",
    "    for col in X.columns:\n",
    "        if col == 'sex':\n",
    "            q = np.clip(np.random.normal(np.random.choice([0.4, 0.6]), scale=0.05), 0, 1)\n",
    "            list_entries.append(np.random.choice(['male', 'female'], n, p=[q, 1-q]))\n",
    "        else:\n",
    "            if prop:\n",
    "                list_entries.append(np.random.choice(X[col].unique(), n, p=(X[col].value_counts(normalize=True)).to_numpy()))\n",
    "            else:\n",
    "                list_entries.append(np.random.choice(X[col].unique(), n))\n",
    "    return pd.DataFrame(np.array(list_entries).transpose(), columns=X.columns)"
   ]
  },
  {
   "cell_type": "code",
   "execution_count": 53,
   "metadata": {},
   "outputs": [
    {
     "data": {
      "text/plain": [
       "male      0.65\n",
       "female    0.35\n",
       "Name: sex, dtype: float64"
      ]
     },
     "execution_count": 53,
     "metadata": {},
     "output_type": "execute_result"
    }
   ],
   "source": [
    "new_entries_homme(1000).sex.value_counts(normalize=True)"
   ]
  },
  {
   "cell_type": "markdown",
   "metadata": {},
   "source": [
    "On se place dans le cas suivant :\n",
    "\n",
    "On a un modèle *model_secret* qui à la structure de *model_chose* et qui est entrainé sur une base de données : *X_train_secret*, et une labélisation : *y_train_secret*.\n",
    "On cherche à savoir si la base de données secrète avait une majorité d'homme.\n",
    "\n",
    "Pour se faire on va procéder de la manière suivante :\n",
    "\n",
    "Comme on n'a pas accès à la base de données *X_train_secret* on va devoir créer une liste de bases : *list_data_X* qui est une liste de base générée avec la fonction : *new_entries_homme* qui génére de nouvelles entrées uniformément pour toutes les variables sauf *sex* où la proportion d'hommes est tirée selon une normale centré en 0,6 ou 0,4 et de écart type 0,05.\n",
    "On utilise le modèle *model_secret* pour labéliser les nouvelles entrées que l'on garde dans la variable *liste_data_y*. (étape de *model extraction*)\n",
    "\n",
    "Pour chaque nouvelle base de données on entraine un modèle de la structure *model_choisi* et on récupère les poids de ce modèle.\n",
    "Tous ces poids forme la base *data_meta_X*. C'est une base de données où chaque entrée $i$ coorespond aux coefficients du modèle entrainé sur *(list_data_X[i], list\\_data\\_y[i])*.\n",
    "\n",
    "On crée la labélisation de notre méta-modèle *data_meta_y* en notant $1$ s'il y a plus d'homme que de femme dans le base de données *list_data_X[i]* et 0 sinon.\n",
    "\n",
    "On va entrainer notre méta-modèle qui est une régression logstique sur *(data_meta_X, data_meta_y)*\n",
    "\n",
    "On va finalement donner les coefficients de notre modèle secret à notre méta-modèle et il va nous dire si le modèle secret a été entrainé sur une base de données avec une majoritée d'homme (1) ou de femme (0). "
   ]
  },
  {
   "cell_type": "markdown",
   "metadata": {},
   "source": [
    "*FAIRE UN SCHÉMA*"
   ]
  },
  {
   "cell_type": "code",
   "execution_count": 54,
   "metadata": {},
   "outputs": [],
   "source": [
    "n_data = 300\n",
    "n_entries = len(X_train)\n",
    "\n",
    "X_train_secret = X_train\n",
    "y_train_secret = y_train\n",
    "\n",
    "prop = False\n",
    "new = False\n",
    "# Choisir si on veut utiliser le modèle qui surapprend ou pas \n",
    "model_choisi = model  #model\n",
    "name = '_overfit' if model_choisi == model_over else ''\n",
    "prop_name = '_prop' if prop else '_unif'\n",
    "\n",
    "model_secret = deepcopy(model_choisi.fit(X_train_secret, y_train_secret))\n",
    "\n",
    "if new:\n",
    "    list_data_X = [new_entries_homme(n_entries, prop) for _ in tqdm(range(n_data))]\n",
    "    dist_homme = np.array([(x.sex.value_counts(normalize=True))['male'] for x in list_data_X])\n",
    "    \n",
    "    list_data_y = model_secret.predict(pd.DataFrame(np.array(list_data_X).reshape(-1, 21), \n",
    "                                               columns=X.columns)).reshape(n_data, -1)\n",
    "\n",
    "    data_meta_X = [model_choisi.fit(list_data_X[i], list_data_y[i])['logreg'].coef_[0] \n",
    "                       for i in tqdm(range(len(list_data_X)))]\n",
    "    \n",
    "    np.savez_compressed(f'data/privacy/data{name}{prop_name}.npz', \n",
    "                        data_meta=data_meta_X, \n",
    "                        list_homme=dist_homme)\n",
    "else:\n",
    "    file = np.load(f'data/privacy/data{name}{prop_name}.npz', allow_pickle=True)\n",
    "    data_meta_X = file['data_meta']\n",
    "    dist_homme = file['dist_homme']\n",
    "    \n",
    "data_meta_y = (dist_homme > 0.5).astype('int')"
   ]
  },
  {
   "cell_type": "markdown",
   "metadata": {},
   "source": [
    "### Visualisation de la répartition de la proportion d'hommes dans les bases de données"
   ]
  },
  {
   "cell_type": "code",
   "execution_count": 55,
   "metadata": {},
   "outputs": [
    {
     "data": {
      "image/png": "[encoded data removed]",
      "text/plain": [
       "<Figure size 432x288 with 1 Axes>"
      ]
     },
     "metadata": {},
     "output_type": "display_data"
    }
   ],
   "source": [
    "plt.hist(dist_homme, density=True, bins=50)\n",
    "plt.show()"
   ]
  },
  {
   "cell_type": "markdown",
   "metadata": {},
   "source": [
    "### Entrainement du méta-modèle"
   ]
  },
  {
   "cell_type": "code",
   "execution_count": 56,
   "metadata": {},
   "outputs": [
    {
     "data": {
      "text/plain": [
       "LogisticRegression(max_iter=200)"
      ]
     },
     "execution_count": 56,
     "metadata": {},
     "output_type": "execute_result"
    }
   ],
   "source": [
    "X_train_meta, X_test_meta, y_train_meta, y_test_meta = model_selection.train_test_split(data_meta_X, \n",
    "                                                                                        data_meta_y, \n",
    "                                                                                        test_size=0.20)\n",
    "meta_model = LogisticRegression(max_iter=200)\n",
    "meta_model.fit(X_train_meta, y_train_meta)"
   ]
  },
  {
   "cell_type": "code",
   "execution_count": 57,
   "metadata": {},
   "outputs": [
    {
     "data": {
      "text/plain": [
       "array([[14, 18],\n",
       "       [14, 14]])"
      ]
     },
     "execution_count": 57,
     "metadata": {},
     "output_type": "execute_result"
    }
   ],
   "source": [
    "confusion_matrix(y_test_meta, meta_model.predict(X_test_meta))"
   ]
  },
  {
   "cell_type": "code",
   "execution_count": 58,
   "metadata": {},
   "outputs": [
    {
     "data": {
      "application/vnd.jupyter.widget-view+json": {
       "model_id": "612b5ef39930465ba049e189c3573b03",
       "version_major": 2,
       "version_minor": 0
      },
      "text/plain": [
       "HBox(children=(HTML(value=''), FloatProgress(value=0.0), HTML(value='')))"
      ]
     },
     "metadata": {},
     "output_type": "display_data"
    },
    {
     "name": "stdout",
     "output_type": "stream",
     "text": [
      "\n"
     ]
    },
    {
     "data": {
      "image/png": "[encoded data removed]",
      "text/plain": [
       "<Figure size 432x288 with 1 Axes>"
      ]
     },
     "metadata": {},
     "output_type": "display_data"
    }
   ],
   "source": [
    "l = []\n",
    "X_train_meta_all, X_test_meta_all, y_train_meta_all, y_test_meta_all = model_selection.train_test_split(data_meta_X, \n",
    "                                                                                        data_meta_y, \n",
    "                                                                                        test_size=0.01)\n",
    "for i in tqdm(range(100)):\n",
    "    X_train_meta, _, y_train_meta, _ = model_selection.train_test_split(X_train_meta_all, \n",
    "                                                                        y_train_meta_all, \n",
    "                                                                        test_size=0.20)\n",
    "    meta_model = LogisticRegression(max_iter=200)\n",
    "    meta_model.fit(X_train_meta, y_train_meta)\n",
    "    \n",
    "    #l += [meta_model.predict_proba(model_secret['logreg'].coef_)[0,1]]\n",
    "    l += [meta_model.predict_proba([X_test_meta[0]])[0,1]]\n",
    "\n",
    "plt.hist(l, density=True, bins=50, color='b')\n",
    "plt.show()"
   ]
  },
  {
   "cell_type": "code",
   "execution_count": 59,
   "metadata": {},
   "outputs": [
    {
     "name": "stdout",
     "output_type": "stream",
     "text": [
      "1\n"
     ]
    }
   ],
   "source": [
    "print(y_test_meta[0])"
   ]
  },
  {
   "cell_type": "markdown",
   "metadata": {},
   "source": [
    "### Régression linéaire pour trouver le proportion d'homme"
   ]
  },
  {
   "cell_type": "code",
   "execution_count": 60,
   "metadata": {},
   "outputs": [],
   "source": [
    "data_meta_y_linear = dist_homme\n",
    "X_train_meta, X_test_meta, y_train_meta, y_test_meta = model_selection.train_test_split(data_meta_X, \n",
    "                                                                                        data_meta_y_linear, \n",
    "                                                                                        test_size=0.20, \n",
    "                                                                                        random_state=seed)"
   ]
  },
  {
   "cell_type": "code",
   "execution_count": 61,
   "metadata": {},
   "outputs": [
    {
     "data": {
      "text/plain": [
       "LinearRegression()"
      ]
     },
     "execution_count": 61,
     "metadata": {},
     "output_type": "execute_result"
    }
   ],
   "source": [
    "meta_model_linear = LinearRegression()\n",
    "meta_model_linear.fit(X_train_meta, y_train_meta)"
   ]
  },
  {
   "cell_type": "markdown",
   "metadata": {},
   "source": [
    "On regarde la différence moyenne en pourcentage entre la prévision du modèle et la réalité"
   ]
  },
  {
   "cell_type": "code",
   "execution_count": 62,
   "metadata": {},
   "outputs": [
    {
     "data": {
      "text/plain": [
       "24.322101347546095"
      ]
     },
     "execution_count": 62,
     "metadata": {},
     "output_type": "execute_result"
    }
   ],
   "source": [
    "((np.abs(y_test_meta - meta_model_linear.predict(X_test_meta))/y_test_meta) * 100).mean()"
   ]
  },
  {
   "cell_type": "code",
   "execution_count": 63,
   "metadata": {},
   "outputs": [
    {
     "data": {
      "text/plain": [
       "array([-0.00056166])"
      ]
     },
     "execution_count": 63,
     "metadata": {},
     "output_type": "execute_result"
    }
   ],
   "source": [
    "meta_model_linear.predict(model_secret['logreg'].coef_)"
   ]
  },
  {
   "cell_type": "code",
   "execution_count": 64,
   "metadata": {},
   "outputs": [
    {
     "data": {
      "text/plain": [
       "LinearSVR(max_iter=100000)"
      ]
     },
     "execution_count": 64,
     "metadata": {},
     "output_type": "execute_result"
    }
   ],
   "source": [
    "from sklearn import svm\n",
    "\n",
    "meta_model_svr = svm.LinearSVR(max_iter=100000)\n",
    "meta_model_svr.fit(X_train_meta, y_train_meta)"
   ]
  },
  {
   "cell_type": "code",
   "execution_count": 65,
   "metadata": {},
   "outputs": [
    {
     "data": {
      "text/plain": [
       "26.67559886789247"
      ]
     },
     "execution_count": 65,
     "metadata": {},
     "output_type": "execute_result"
    }
   ],
   "source": [
    "((np.abs(y_test_meta - meta_model_svr.predict(X_test_meta))/y_test_meta) * 100).mean()"
   ]
  },
  {
   "cell_type": "code",
   "execution_count": 66,
   "metadata": {},
   "outputs": [
    {
     "data": {
      "text/plain": [
       "array([0.15990243])"
      ]
     },
     "execution_count": 66,
     "metadata": {},
     "output_type": "execute_result"
    }
   ],
   "source": [
    "meta_model_svr.predict(model_secret['logreg'].coef_)"
   ]
  },
  {
   "cell_type": "markdown",
   "metadata": {},
   "source": [
    "# Differential Privacy"
   ]
  },
  {
   "cell_type": "markdown",
   "metadata": {},
   "source": [
    "On utilise la librairie *diffprivlib* qui permet d'implémenter avec des modèles de *sklearn* la *differential privacy*."
   ]
  },
  {
   "cell_type": "code",
   "execution_count": 67,
   "metadata": {},
   "outputs": [],
   "source": [
    "import diffprivlib.models as diff"
   ]
  },
  {
   "cell_type": "code",
   "execution_count": 68,
   "metadata": {},
   "outputs": [],
   "source": [
    "epsilon=1\n",
    "data_norm=1\n",
    "\n",
    "model_over_diff = Pipeline(\n",
    "    steps=[\n",
    "        ('relations', FunctionTransformer(add_relations)), \n",
    "        ('preprocession', preprocessor_comb),\n",
    "        # La seule différence avec model_over\n",
    "        ('logreg', diff.LogisticRegression(max_iter=200, epsilon=epsilon, data_norm=data_norm))\n",
    "    ]\n",
    ")"
   ]
  },
  {
   "cell_type": "code",
   "execution_count": 69,
   "metadata": {},
   "outputs": [
    {
     "name": "stdout",
     "output_type": "stream",
     "text": [
      "validation : 0.485, score : 0.506\n"
     ]
    }
   ],
   "source": [
    "model_over_diff.fit(X_train, y_train)\n",
    "print(f\"validation : {model_over_diff.score(X_test, y_test):.3f}, score : {model_over_diff.score(X_train, y_train):.3f}\") "
   ]
  },
  {
   "cell_type": "markdown",
   "metadata": {},
   "source": [
    "C'est là où il y a un problème on ne peut plus vraiment utilisé le modèle secret pour auto-labélisé les nouvelles données car il perd en efficacité donc la labélisation de *y_train_secret* est vraiment différentes de l'auto-labélisation. Il faut donc s'éloigner de la situation initale qui combinait le *proprety inference* et le *model extraction* comme on ne veut que le premier on va suivre le protocole suivant :\n",
    "\n",
    " - On va créer un *pool* de données (100000)\n",
    " - On utilise le *model_secret* entrainé sur (X_train_secret, y_train_secret) pour auto-labélisé\n",
    " - On va tirer une base de données secrete parmis ces données que l'on va renommé *data_secret*\n",
    " - La liste de data va être tirée dans la *pool* en tirant le bon nombre d'entrées hommme et femme\n",
    " \n",
    " - On entraine de la même manière le meta modèle mais cette fois-ci : y_train_secret et le y de list_data_y sont de même forme"
   ]
  },
  {
   "cell_type": "markdown",
   "metadata": {},
   "source": [
    "#### Creation d'un très grand nombre d'entrées\n"
   ]
  },
  {
   "cell_type": "code",
   "execution_count": 70,
   "metadata": {},
   "outputs": [],
   "source": [
    "def new_entries_unif_sex(n):\n",
    "    list_entries = []\n",
    "    for col in X.columns:\n",
    "        if col == 'sex':\n",
    "            list_entries.append(np.random.choice(X[col].unique(), n))\n",
    "        else:\n",
    "            list_entries.append(np.random.choice(X[col].unique(), n, p=(X[col].value_counts(normalize=True)).to_numpy()))\n",
    "    return pd.DataFrame(np.array(list_entries).transpose(), columns=X.columns)"
   ]
  },
  {
   "cell_type": "code",
   "execution_count": 71,
   "metadata": {},
   "outputs": [],
   "source": [
    "def index_fix_p_homme(p, N):\n",
    "    nb_homme = round(p * N) \n",
    "\n",
    "    male_index = np.random.choice(all_male_index, replace=False, size=nb_homme)\n",
    "    female_index = np.random.choice(all_female_index, replace=False, size=N-nb_homme)\n",
    "\n",
    "    return np.concatenate([male_index, female_index])"
   ]
  },
  {
   "cell_type": "code",
   "execution_count": 72,
   "metadata": {},
   "outputs": [],
   "source": [
    "N = 800\n",
    "m = 300\n",
    "\n",
    "new = False\n",
    "\n",
    "model_predict = model_over.fit(X_train, y_train)\n",
    "\n",
    "if new:  \n",
    "    data_pool = new_entries_unif_sex(100000)\n",
    "    data_pool['defaut'] = model_predict.predict(data_pool)\n",
    "    \n",
    "    all_male_index = data_pool[data_pool.sex == 'male'].index\n",
    "    all_female_index = data_pool[data_pool.sex == 'female'].index\n",
    "        \n",
    "    all_p = np.clip(np.random.normal(np.random.choice([0.4, 0.6], size=m), scale=0.05), 0, 1)\n",
    "    sub_index = [index_fix_p_homme(p, N) for p in tqdm(all_p)]\n",
    "    np.savez_compressed('data/privacy/diff_data.npz', data_pool=np.array(data_pool), \n",
    "                        columns_pool=data_pool.columns, sub_index=np.array(sub_index))\n",
    "else:\n",
    "    file = np.load('data/privacy/diff_data.npz', allow_pickle=True)\n",
    "    \n",
    "    data_pool = pd.DataFrame(file['data_pool'], columns=file['columns_pool'])\n",
    "    sub_index = file['sub_index']\n",
    "    \n",
    "sub_data = [data_pool.iloc[indexes] for indexes in sub_index]"
   ]
  },
  {
   "cell_type": "code",
   "execution_count": 73,
   "metadata": {},
   "outputs": [
    {
     "data": {
      "image/png": "[encoded data removed]",
      "text/plain": [
       "<Figure size 432x288 with 1 Axes>"
      ]
     },
     "metadata": {},
     "output_type": "display_data"
    }
   ],
   "source": [
    "dist_homme = [(x.sex.value_counts(normalize=True))['male'] for x in sub_data]\n",
    "plt.hist(dist_homme, density=True, bins=50)\n",
    "plt.show()"
   ]
  },
  {
   "cell_type": "code",
   "execution_count": 74,
   "metadata": {},
   "outputs": [],
   "source": [
    "new = False\n",
    "\n",
    "list_data_X = [df.drop('defaut', axis=1) for df in sub_data]\n",
    "\n",
    "if new:\n",
    "    list_data_y = [df.defaut for df in sub_data]\n",
    "\n",
    "    data_meta_X = [model_over.fit(list_data_X[i], list_data_y[i])['logreg'].coef_[0] \n",
    "                        for i in tqdm(range(len(list_data_X)))]\n",
    "\n",
    "    np.savez_compressed('data/privacy/data_meta_over_prop_diff.npz', data_meta=np.array(data_meta_X))\n",
    "else:\n",
    "    data_meta_X = np.load('data/privacy/data_meta_over_prop_diff.npz')['data_meta']\n",
    "    \n",
    "    \n",
    "data_meta_y = np.array([df.sex.value_counts().index[0] == 'male' \n",
    "                            for df in list_data_X]).astype('int')"
   ]
  },
  {
   "cell_type": "code",
   "execution_count": 75,
   "metadata": {},
   "outputs": [
    {
     "data": {
      "text/plain": [
       "array([[13, 17],\n",
       "       [13, 17]])"
      ]
     },
     "execution_count": 75,
     "metadata": {},
     "output_type": "execute_result"
    }
   ],
   "source": [
    "X_open, X_secret, y_open, y_secret = model_selection.train_test_split(data_meta_X, \n",
    "                                                                        data_meta_y, \n",
    "                                                                        test_size=0.20)\n",
    "\n",
    "meta_model = LogisticRegression(max_iter=200)\n",
    "meta_model.fit(X_open, y_open)\n",
    "confusion_matrix(y_secret, meta_model.predict(X_secret))"
   ]
  },
  {
   "cell_type": "code",
   "execution_count": 81,
   "metadata": {},
   "outputs": [],
   "source": [
    "all_male_index = data_pool[data_pool.sex == 'male'].index\n",
    "all_female_index = data_pool[data_pool.sex == 'female'].index\n",
    "\n",
    "X_secret = data_pool.iloc[index_fix_p_homme(0.6, 1000)].drop(columns=['defaut'])\n",
    "y_secret = model_predict.predict(X_secret)\n",
    "      \n",
    "X_secret_train, X_secret_test, y_secret_train, y_secret_test = model_selection.train_test_split(X_secret, \n",
    "                                                                                                    y_secret, \n",
    "                                                                                                    test_size=0.20)"
   ]
  },
  {
   "cell_type": "code",
   "execution_count": 83,
   "metadata": {},
   "outputs": [
    {
     "name": "stdout",
     "output_type": "stream",
     "text": [
      "[[127  13]\n",
      " [ 18  42]]\n"
     ]
    }
   ],
   "source": [
    "model_over.fit(X_secret_train, y_secret_train)\n",
    "y_test_pred = model_over.predict(X_secret_test)\n",
    "cm = confusion_matrix(y_secret_test, y_test_pred)\n",
    "print(cm)"
   ]
  },
  {
   "cell_type": "code",
   "execution_count": 84,
   "metadata": {},
   "outputs": [
    {
     "data": {
      "text/plain": [
       "male      0.60125\n",
       "female    0.39875\n",
       "Name: sex, dtype: float64"
      ]
     },
     "execution_count": 84,
     "metadata": {},
     "output_type": "execute_result"
    }
   ],
   "source": [
    "X_secret_train.sex.value_counts(normalize=True)"
   ]
  },
  {
   "cell_type": "code",
   "execution_count": 85,
   "metadata": {},
   "outputs": [
    {
     "data": {
      "text/plain": [
       "array([[0.02598231, 0.97401769]])"
      ]
     },
     "execution_count": 85,
     "metadata": {},
     "output_type": "execute_result"
    }
   ],
   "source": [
    "meta_model.predict_proba(model_over['logreg'].coef_)"
   ]
  },
  {
   "cell_type": "markdown",
   "metadata": {},
   "source": [
    "On a donc un meta modèle qui ne dépends plus d'un *model extraction* et qui fonctionne bien.\n",
    "On va maintenant tracer pour différentes valeurs de *epsilon* et de *data_norm* les valeurs de prédiction du méta model et du recal."
   ]
  },
  {
   "cell_type": "code",
   "execution_count": 86,
   "metadata": {},
   "outputs": [],
   "source": [
    "def gen_model_diff(epsilon=1, data_norm=1):\n",
    "    model = Pipeline(\n",
    "        steps=[\n",
    "            ('relations', FunctionTransformer(add_relations)), \n",
    "            ('preprocession', preprocessor_comb),\n",
    "            # La seule différence avec model_over\n",
    "            ('logreg', diff.LogisticRegression(max_iter=200, epsilon=epsilon, data_norm=data_norm))\n",
    "        ]\n",
    "    )\n",
    "    return model"
   ]
  },
  {
   "cell_type": "code",
   "execution_count": 87,
   "metadata": {},
   "outputs": [],
   "source": [
    "def mesure(model):\n",
    "    \n",
    "    y_test_pred = model.predict(X_test_secret)\n",
    "    cm = confusion_matrix(y_test_secret, y_test_pred)\n",
    "    \n",
    "    pred_homme = meta_model.predict_proba(model['logreg'].coef_)[0,1]\n",
    "    \n",
    "    recall = cm[0,0]/(cm[0,0]+cm[1,0])\n",
    "    specificity = cm[1,1]/(cm[1,1]+cm[0,1])\n",
    "    precision = cm[0,0]/(cm[0,0]+cm[0,1])\n",
    "    accuracy =(cm[0,0]+cm[1,1])/(cm[0,0]+cm[0,1]+cm[1,0]+cm[1,1])\n",
    "  \n",
    "    return recall, specificity, precision, accuracy, pred_homme"
   ]
  },
  {
   "cell_type": "code",
   "execution_count": 88,
   "metadata": {},
   "outputs": [],
   "source": [
    "%%capture --no-display --no-stdout\n",
    "new = False\n",
    "\n",
    "columns = ['recall', 'specificity', 'precision', 'accuracy', 'pred_homme', 'eps', 'data_norm']\n",
    "\n",
    "if new:\n",
    "    nb_test = 10\n",
    "    list_eps = np.logspace(-1, 2, 10)\n",
    "    list_data_norm = np.logspace(-1, 2, 10)\n",
    "    \n",
    "    X_secret = data_fix_p_homme(0.6, 1000)\n",
    "    y_secret = model_predict.predict(X_secret)\n",
    "    \n",
    "    X_train_secret, X_test_secret, y_train_secret, y_test_secret = model_selection.train_test_split(X_secret, \n",
    "                                                                                                    y_secret, \n",
    "                                                                                                    test_size=0.20)\n",
    "    def mesure(model):\n",
    "        model.fit(X_train_secret, y_train_secret)\n",
    "        y_test_pred = model.predict(X_test_secret)\n",
    "        cm = confusion_matrix(y_test_secret, y_test_pred)\n",
    "\n",
    "        recall = cm[0,0]/(cm[0,0]+cm[1,0])\n",
    "        specificity = cm[1,1]/(cm[1,1]+cm[0,1])\n",
    "        precision = cm[0,0]/(cm[0,0]+cm[0,1])\n",
    "        accuracy = (cm[0,0]+cm[1,1])/(cm[0,0]+cm[0,1]+cm[1,0]+cm[1,1])\n",
    "        \n",
    "        pred_homme = meta_model.predict_proba(model['logreg'].coef_)[0,1]\n",
    "\n",
    "        return recall, specificity, precision, accuracy, pred_homme\n",
    "\n",
    "    all_mesures = [(*mesure(gen_model_diff(eps, data_norm)), eps, data_norm) for eps in tqdm(list_eps) \n",
    "                 for data_norm in list_data_norm \n",
    "                     for _ in range(nb_test)]\n",
    "\n",
    "    df_mesures = pd.DataFrame(all_mesures, columns=columns)\n",
    "    \n",
    "    np.save('data/privacy/data_mesures.npy', df_mesures.to_numpy())\n",
    "else:\n",
    "    df_mesures = pd.DataFrame(np.load('data/privacy/data_mesures.npy'), columns=columns)"
   ]
  },
  {
   "cell_type": "code",
   "execution_count": null,
   "metadata": {},
   "outputs": [],
   "source": []
  }
 ],
 "metadata": {
  "jupytext": {
   "formats": "ipynb,Rmd"
  },
  "kernelspec": {
   "display_name": "Python 3",
   "language": "python",
   "name": "python3"
  },
  "language_info": {
   "codemirror_mode": {
    "name": "ipython",
    "version": 3
   },
   "file_extension": ".py",
   "mimetype": "text/x-python",
   "name": "python",
   "nbconvert_exporter": "python",
   "pygments_lexer": "ipython3",
   "version": "3.9.6"
  }
 },
 "nbformat": 4,
 "nbformat_minor": 4
}
